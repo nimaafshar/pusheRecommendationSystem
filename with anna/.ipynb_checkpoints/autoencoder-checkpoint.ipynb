{
 "cells": [
  {
   "cell_type": "code",
   "execution_count": null,
   "metadata": {},
   "outputs": [],
   "source": [
    "import numpy as np\n",
    "import pandas as pd \n",
    "\n",
    "from numpy.random import seed\n",
    "from sklearn.preprocessing import minmax_scale\n",
    "from sklearn.model_selection import train_test_split\n",
    "from keras.layers import Input, Dense\n",
    "from keras.models import Model"
   ]
  },
  {
   "cell_type": "code",
   "execution_count": null,
   "metadata": {},
   "outputs": [],
   "source": [
    "X_npz = np.load( 'autoencoder_input.npz' )\n",
    "X = X_npz['X']"
   ]
  },
  {
   "cell_type": "code",
   "execution_count": null,
   "metadata": {},
   "outputs": [],
   "source": [
    "X_scaled = minmax_scale(X, axis = 0)"
   ]
  },
  {
   "cell_type": "code",
   "execution_count": null,
   "metadata": {},
   "outputs": [],
   "source": [
    "indices_train, indices_validation = train_test_split( np.arange( len(X) ) , test_size = 0.2)\n",
    "X_train, X_validation = X_scaled[indices_train], X_scaled[indices_validation]"
   ]
  },
  {
   "cell_type": "code",
   "execution_count": null,
   "metadata": {},
   "outputs": [],
   "source": [
    "encoding_dim = 10\n",
    "ncol = X_scaled.shape[1]"
   ]
  },
  {
   "cell_type": "code",
   "execution_count": null,
   "metadata": {},
   "outputs": [],
   "source": [
    "##kessssafffaaat"
   ]
  },
  {
   "cell_type": "code",
   "execution_count": null,
   "metadata": {},
   "outputs": [],
   "source": [
    "input_dim = Input(shape = (ncol, ))\n",
    "\n",
    "# Encoder Layers\n",
    "encoded1 = Dense(3000, activation = 'relu')(input_dim)\n",
    "encoded2 = Dense(2750, activation = 'relu')(encoded1)\n",
    "encoded3 = Dense(2500, activation = 'relu')(encoded2)\n",
    "encoded4 = Dense(2250, activation = 'relu')(encoded3)\n",
    "encoded5 = Dense(2000, activation = 'relu')(encoded4)\n",
    "encoded6 = Dense(1750, activation = 'relu')(encoded5)\n",
    "encoded7 = Dense(1500, activation = 'relu')(encoded6)\n",
    "encoded8 = Dense(1250, activation = 'relu')(encoded7)\n",
    "encoded9 = Dense(1000, activation = 'relu')(encoded8)\n",
    "encoded10 = Dense(750, activation = 'relu')(encoded9)\n",
    "encoded11 = Dense(500, activation = 'relu')(encoded10)\n",
    "encoded12 = Dense(250, activation = 'relu')(encoded11)\n",
    "encoded13 = Dense(encoding_dim, activation = 'relu')(encoded12)\n",
    "\n",
    "# Decoder Layers\n",
    "decoded1 = Dense(250, activation = 'relu')(encoded13)\n",
    "decoded2 = Dense(500, activation = 'relu')(decoded1)\n",
    "decoded3 = Dense(750, activation = 'relu')(decoded2)\n",
    "decoded4 = Dense(1000, activation = 'relu')(decoded3)\n",
    "decoded5 = Dense(1250, activation = 'relu')(decoded4)\n",
    "decoded6 = Dense(1500, activation = 'relu')(decoded5)\n",
    "decoded7 = Dense(1750, activation = 'relu')(decoded6)\n",
    "decoded8 = Dense(2000, activation = 'relu')(decoded7)\n",
    "decoded9 = Dense(2250, activation = 'relu')(decoded8)\n",
    "decoded10 = Dense(2500, activation = 'relu')(decoded9)\n",
    "decoded11 = Dense(2750, activation = 'relu')(decoded10)\n",
    "decoded12 = Dense(3000, activation = 'relu')(decoded11)\n",
    "decoded13 = Dense(ncol, activation = 'sigmoid')(decoded12)\n",
    "\n",
    "# Combine Encoder and Deocder layers\n",
    "autoencoder = Model(inputs = input_dim, outputs = decoded13)\n",
    "\n",
    "# Compile the Model\n",
    "autoencoder.compile(optimizer = 'adadelta', loss = 'binary_crossentropy')"
   ]
  },
  {
   "cell_type": "code",
   "execution_count": null,
   "metadata": {},
   "outputs": [],
   "source": [
    "autoencoder.fit( X_train, X_train,\n",
    "                nb_epoch = 10,\n",
    "                batch_size = 32,\n",
    "                shuffle = False,\n",
    "                validation_data = (X_validation, X_validation))"
   ]
  },
  {
   "cell_type": "code",
   "execution_count": null,
   "metadata": {},
   "outputs": [],
   "source": []
  }
 ],
 "metadata": {
  "kernelspec": {
   "display_name": "Python 3",
   "language": "python",
   "name": "python3"
  },
  "language_info": {
   "codemirror_mode": {
    "name": "ipython",
    "version": 3
   },
   "file_extension": ".py",
   "mimetype": "text/x-python",
   "name": "python",
   "nbconvert_exporter": "python",
   "pygments_lexer": "ipython3",
   "version": "3.6.8"
  }
 },
 "nbformat": 4,
 "nbformat_minor": 2
}
