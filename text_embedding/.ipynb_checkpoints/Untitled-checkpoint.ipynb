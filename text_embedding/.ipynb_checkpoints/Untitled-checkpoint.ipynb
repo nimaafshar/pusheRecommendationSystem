{
 "cells": [
  {
   "cell_type": "code",
   "execution_count": 1,
   "metadata": {},
   "outputs": [
    {
     "name": "stderr",
     "output_type": "stream",
     "text": [
      "Using TensorFlow backend.\n"
     ]
    }
   ],
   "source": [
    "from keras.layers import Input, Dense\n",
    "from keras.models import Model\n",
    "from keras.datasets import mnist\n",
    "from keras import backend as K\n",
    "import numpy as np\n",
    "import matplotlib.pyplot as plt\n",
    "import pickle\n",
    "\n"
   ]
  },
  {
   "cell_type": "code",
   "execution_count": 4,
   "metadata": {},
   "outputs": [],
   "source": [
    "# Deep Autoencoder\n",
    "\n",
    "# features_path = 'deep_autoe_features.pickle'\n",
    "# labels_path = 'deep_autoe_labels.pickle'\n",
    "\n",
    "# this is the size of our encoded representations\n",
    "encoding_dim = 16   # 32 floats -> compression factor 24.5, assuming the input is 784 floats\n",
    "\n",
    "# this is our input placeholder; 784 = 28 x 28\n",
    "input_ = Input(shape=(2000, ))\n",
    "\n",
    "my_epochs = 100\n",
    "\n"
   ]
  },
  {
   "cell_type": "code",
   "execution_count": 17,
   "metadata": {},
   "outputs": [],
   "source": [
    "# \"encoded\" is the encoded representation of the inputs\n",
    "encoded = Dense(512, activation='relu')(input_)\n",
    "encoded = Dense(128, activation='relu')(encoded)\n",
    "encoded = Dense(encoding_dim, activation='relu')(encoded)\n",
    "\n",
    "# \"decoded\" is the lossy reconstruction of the input\n",
    "decoded = Dense(128, activation='relu')(encoded)\n",
    "decoded = Dense(512, activation='relu')(decoded)\n",
    "decoded = Dense(2000, activation='sigmoid')(decoded)\n",
    "\n",
    "# this model maps an input to its reconstruction\n",
    "autoencoder = Model(input_, decoded)\n",
    "\n",
    "# Separate Encoder model\n",
    "\n",
    "# this model maps an input to its encoded representation\n",
    "encoder = Model(input_, encoded)\n",
    "\n",
    "# Separate Decoder model\n",
    "\n",
    "# create a placeholder for an encoded (32-dimensional) input\n",
    "encoded_input = Input(shape=(encoding_dim, ))\n",
    "# retrieve the layers of the autoencoder model\n",
    "decoder_layer1 = autoencoder.layers[-3]\n",
    "decoder_layer2 = autoencoder.layers[-2]\n",
    "decoder_layer3 = autoencoder.layers[-1]\n",
    "# create the decoder model\n",
    "decoder = Model(encoded_input, decoder_layer3(decoder_layer2(decoder_layer1(encoded_input))))\n",
    "\n",
    "# Train to reconstruct MNIST digits\n",
    "\n",
    "# configure model to use a per-pixel binary crossentropy loss, and the Adadelta optimizer\n",
    "autoencoder.compile(optimizer='adadelta', loss='binary_crossentropy')"
   ]
  },
  {
   "cell_type": "code",
   "execution_count": 18,
   "metadata": {},
   "outputs": [
    {
     "data": {
      "text/plain": [
       "(6347, 2000)"
      ]
     },
     "execution_count": 18,
     "metadata": {},
     "output_type": "execute_result"
    }
   ],
   "source": [
    "import pandas as pd\n",
    "notifs_df = pd.read_csv('/Users/vahid/data/recommender/notifs_corrected.csv')\n",
    "\n",
    "input_data = np.zeros([notifs_df.shape[0], 2000])\n",
    "\n",
    "for index, row in notifs_df.iterrows():\n",
    "    if type(row.text) == str:\n",
    "        words = [int(word) for word in row.text.split(' ')]\n",
    "        for idx, word in enumerate(words):\n",
    "            input_data[index, word] = 1 \n",
    "            \n",
    "input_data.shape\n",
    "    "
   ]
  },
  {
   "cell_type": "code",
   "execution_count": 37,
   "metadata": {},
   "outputs": [
    {
     "name": "stdout",
     "output_type": "stream",
     "text": [
      "(5500, 2000)\n",
      "(847, 2000)\n"
     ]
    }
   ],
   "source": [
    "\n",
    "# prepare input data\n",
    "x_train = input_data[:5500]\n",
    "x_test = input_data[5500:]\n",
    "\n",
    "# normalize all values between 0 and 1 and flatten the 28x28 images into vectors of size 784\n",
    "x_train = x_train.astype('float32')\n",
    "x_test = x_test.astype('float32')\n",
    "x_train = x_train.reshape((len(x_train), np.prod(x_train.shape[1:])))\n",
    "x_test = x_test.reshape((len(x_test), np.prod(x_test.shape[1:])))\n",
    "print(x_train.shape)\n",
    "print(x_test.shape)\n",
    "\n"
   ]
  },
  {
   "cell_type": "code",
   "execution_count": null,
   "metadata": {},
   "outputs": [
    {
     "name": "stdout",
     "output_type": "stream",
     "text": [
      "Train on 5500 samples, validate on 847 samples\n",
      "Epoch 1/100\n",
      " - 11s - loss: 0.0367 - val_loss: 0.0380\n",
      "Epoch 2/100\n",
      " - 11s - loss: 0.0366 - val_loss: 0.0377\n",
      "Epoch 3/100\n",
      " - 11s - loss: 0.0366 - val_loss: 0.0382\n",
      "Epoch 4/100\n",
      " - 11s - loss: 0.0365 - val_loss: 0.0380\n",
      "Epoch 5/100\n",
      " - 11s - loss: 0.0365 - val_loss: 0.0378\n",
      "Epoch 6/100\n",
      " - 15s - loss: 0.0364 - val_loss: 0.0379\n",
      "Epoch 7/100\n"
     ]
    }
   ],
   "source": [
    "# Train autoencoder for 50 epochs\n",
    "\n",
    "autoencoder.fit(x_train, x_train, epochs=my_epochs, batch_size=16, shuffle=True, validation_data=(x_test, x_test),\n",
    "                verbose=2)\n",
    "\n",
    "# after 100 epochs the autoencoder seems to reach a stable train/test lost value\n",
    "\n",
    "# Visualize the reconstructed encoded representations\n"
   ]
  },
  {
   "cell_type": "code",
   "execution_count": 21,
   "metadata": {},
   "outputs": [],
   "source": [
    "\n",
    "# encode and decode some digits\n",
    "# note that we take them from the *test* set\n",
    "encoded_imgs = encoder.predict(x_test)\n",
    "decoded_imgs = decoder.predict(encoded_imgs)"
   ]
  },
  {
   "cell_type": "code",
   "execution_count": 22,
   "metadata": {},
   "outputs": [
    {
     "data": {
      "text/plain": [
       "(847, 32)"
      ]
     },
     "execution_count": 22,
     "metadata": {},
     "output_type": "execute_result"
    }
   ],
   "source": [
    "encoded_imgs.shape"
   ]
  },
  {
   "cell_type": "code",
   "execution_count": 23,
   "metadata": {},
   "outputs": [
    {
     "data": {
      "text/plain": [
       "(847, 2000)"
      ]
     },
     "execution_count": 23,
     "metadata": {},
     "output_type": "execute_result"
    }
   ],
   "source": [
    "decoded_imgs.shape"
   ]
  },
  {
   "cell_type": "code",
   "execution_count": 24,
   "metadata": {},
   "outputs": [
    {
     "data": {
      "text/plain": [
       "(847, 2000)"
      ]
     },
     "execution_count": 24,
     "metadata": {},
     "output_type": "execute_result"
    }
   ],
   "source": [
    "x_test.shape"
   ]
  },
  {
   "cell_type": "code",
   "execution_count": 25,
   "metadata": {},
   "outputs": [
    {
     "name": "stdout",
     "output_type": "stream",
     "text": [
      "22.0 11.314304\n",
      "21.0 12.306877\n",
      "12.0 8.3125515\n",
      "19.0 14.981817\n",
      "12.0 14.289054\n",
      "12.0 14.289054\n",
      "12.0 8.3125515\n",
      "21.0 21.346859\n",
      "12.0 16.309542\n",
      "11.0 13.31774\n",
      "15.0 20.237478\n",
      "4.0 29.637936\n",
      "11.0 14.037571\n",
      "14.0 12.382876\n",
      "13.0 13.454971\n",
      "12.0 17.272203\n",
      "9.0 14.671085\n",
      "14.0 11.139321\n",
      "13.0 13.454971\n",
      "10.0 19.519796\n",
      "10.0 19.519796\n",
      "18.0 15.528336\n",
      "10.0 19.519796\n",
      "10.0 19.519796\n",
      "10.0 19.519796\n",
      "10.0 19.519796\n",
      "7.0 21.278708\n",
      "14.0 12.382876\n",
      "10.0 19.519796\n",
      "10.0 19.519796\n",
      "10.0 19.519796\n",
      "10.0 19.519796\n",
      "16.0 20.746178\n",
      "12.0 14.461768\n",
      "10.0 19.519796\n",
      "16.0 20.746178\n",
      "16.0 20.746178\n",
      "23.0 15.305513\n",
      "16.0 20.746178\n",
      "16.0 20.746178\n",
      "8.0 21.288322\n",
      "16.0 20.746178\n",
      "15.0 11.251299\n",
      "15.0 11.251299\n",
      "14.0 12.382876\n",
      "16.0 20.746178\n",
      "21.0 15.310158\n",
      "14.0 11.139321\n",
      "15.0 20.237478\n",
      "15.0 11.251299\n",
      "11.0 15.153371\n",
      "6.0 11.463884\n",
      "14.0 11.139321\n",
      "14.0 11.139321\n",
      "14.0 11.139321\n",
      "16.0 9.888738\n",
      "14.0 11.139321\n",
      "14.0 19.452875\n",
      "21.0 15.310158\n",
      "15.0 11.251299\n",
      "14.0 19.452875\n",
      "14.0 11.139321\n",
      "16.0 9.888738\n",
      "15.0 11.251299\n",
      "15.0 11.251299\n",
      "12.0 13.299519\n",
      "21.0 15.310158\n",
      "15.0 18.52916\n",
      "21.0 15.310158\n",
      "21.0 15.310158\n",
      "21.0 15.310158\n",
      "14.0 11.139321\n",
      "21.0 15.310158\n",
      "15.0 13.237718\n",
      "21.0 15.310158\n",
      "9.0 27.23365\n",
      "21.0 15.310158\n",
      "21.0 15.310158\n",
      "21.0 15.310158\n",
      "21.0 15.310158\n",
      "21.0 15.310158\n",
      "12.0 18.649904\n",
      "16.0 20.746178\n",
      "21.0 15.310158\n",
      "21.0 15.310158\n",
      "16.0 15.709817\n",
      "21.0 15.310158\n",
      "21.0 15.310158\n",
      "21.0 15.310158\n",
      "21.0 15.310158\n",
      "24.0 10.064356\n",
      "12.0 13.299519\n",
      "15.0 13.237718\n",
      "21.0 15.310158\n",
      "9.0 16.950523\n",
      "21.0 15.310158\n",
      "21.0 15.310158\n",
      "21.0 15.310158\n",
      "21.0 15.310158\n",
      "21.0 15.310158\n"
     ]
    }
   ],
   "source": [
    "for i in range(100):\n",
    "    print(x_test[i].sum(), decoded_imgs[i].sum())"
   ]
  },
  {
   "cell_type": "code",
   "execution_count": 26,
   "metadata": {},
   "outputs": [
    {
     "data": {
      "text/plain": [
       "array([2.1098201e-04, 4.3305582e-01, 2.1256514e-01, ..., 2.0516392e-04,\n",
       "       4.3773709e-04, 1.6380266e-04], dtype=float32)"
      ]
     },
     "execution_count": 26,
     "metadata": {},
     "output_type": "execute_result"
    }
   ],
   "source": [
    "decoded_imgs[0]"
   ]
  },
  {
   "cell_type": "code",
   "execution_count": 27,
   "metadata": {},
   "outputs": [],
   "source": [
    "embedded = encoded_imgs = encoder.predict(input_data)\n",
    "decoded_imgs = decoder.predict(encoded_imgs)"
   ]
  },
  {
   "cell_type": "code",
   "execution_count": 29,
   "metadata": {},
   "outputs": [
    {
     "data": {
      "text/plain": [
       "(6347, 32)"
      ]
     },
     "execution_count": 29,
     "metadata": {},
     "output_type": "execute_result"
    }
   ],
   "source": [
    "embedded.shape"
   ]
  },
  {
   "cell_type": "code",
   "execution_count": 31,
   "metadata": {},
   "outputs": [
    {
     "data": {
      "text/plain": [
       "(6347, 2)"
      ]
     },
     "execution_count": 31,
     "metadata": {},
     "output_type": "execute_result"
    }
   ],
   "source": [
    "from sklearn.decomposition import PCA\n",
    "pca = PCA(n_components=2)\n",
    "y = pca.fit_transform(embedded)\n",
    "y.shape"
   ]
  },
  {
   "cell_type": "code",
   "execution_count": 34,
   "metadata": {},
   "outputs": [
    {
     "data": {
      "image/png": "[encoded data removed]",
      "text/plain": [
       "<Figure size 432x288 with 1 Axes>"
      ]
     },
     "metadata": {},
     "output_type": "display_data"
    }
   ],
   "source": [
    "import matplotlib.pyplot as plt\n",
    "plt.scatter(y[:,0], y[:,1], s=3)\n",
    "plt.show()"
   ]
  },
  {
   "cell_type": "code",
   "execution_count": null,
   "metadata": {},
   "outputs": [],
   "source": []
  }
 ],
 "metadata": {
  "kernelspec": {
   "display_name": "Python 3",
   "language": "python",
   "name": "python3"
  },
  "language_info": {
   "codemirror_mode": {
    "name": "ipython",
    "version": 3
   },
   "file_extension": ".py",
   "mimetype": "text/x-python",
   "name": "python",
   "nbconvert_exporter": "python",
   "pygments_lexer": "ipython3",
   "version": "3.6.7"
  }
 },
 "nbformat": 4,
 "nbformat_minor": 2
}
