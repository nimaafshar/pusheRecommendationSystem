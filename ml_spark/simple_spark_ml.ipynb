{
 "cells": [
  {
   "cell_type": "code",
   "execution_count": 1,
   "metadata": {},
   "outputs": [],
   "source": [
    "DATA_PATH = '/Users/vahid/data/recommender/'"
   ]
  },
  {
   "cell_type": "code",
   "execution_count": 2,
   "metadata": {},
   "outputs": [],
   "source": [
    "from pyspark.ml.feature import OneHotEncoderEstimator\n",
    "from pyspark.ml.feature import StringIndexer\n",
    "from pyspark.ml import Pipeline"
   ]
  },
  {
   "cell_type": "code",
   "execution_count": 4,
   "metadata": {},
   "outputs": [
    {
     "data": {
      "text/plain": [
       "491592"
      ]
     },
     "execution_count": 4,
     "metadata": {},
     "output_type": "execute_result"
    }
   ],
   "source": [
    "df = spark.read.format(\"csv\").option(\"header\", \"true\").load(DATA_PATH + 'train_interactions.csv')\n",
    "df = df.sample(fraction=0.005, seed=0)\n",
    "df.count()"
   ]
  },
  {
   "cell_type": "code",
   "execution_count": 5,
   "metadata": {},
   "outputs": [],
   "source": [
    "df = df.drop('interaction_min')\n",
    "df = df.drop('delivery_min')"
   ]
  },
  {
   "cell_type": "code",
   "execution_count": 6,
   "metadata": {},
   "outputs": [],
   "source": [
    "coloumsn = [\"interaction_dow\", \"interaction_hour\", \"delivery_dow\", \"delivery_hour\"]\n",
    "indexers = [StringIndexer(inputCol=column, outputCol=column+\"_index\").fit(df) for column in  coloumsn]\n",
    "\n",
    "pipeline = Pipeline(stages=indexers)\n",
    "df = pipeline.fit(df).transform(df)"
   ]
  },
  {
   "cell_type": "code",
   "execution_count": 7,
   "metadata": {},
   "outputs": [
    {
     "name": "stdout",
     "output_type": "stream",
     "text": [
      "491592\n",
      "+-------+--------+-----------+---------------+----------------+------------+-------------+---------------------+----------------------+------------------+-------------------+\n",
      "|user_id|notif_id|interaction|interaction_dow|interaction_hour|delivery_dow|delivery_hour|interaction_dow_index|interaction_hour_index|delivery_dow_index|delivery_hour_index|\n",
      "+-------+--------+-----------+---------------+----------------+------------+-------------+---------------------+----------------------+------------------+-------------------+\n",
      "|8855709|  473050|          0|              2|               0|           1|           23|                  0.0|                  23.0|               0.0|               21.0|\n",
      "|4562680|  473073|          0|              2|               7|           1|           23|                  0.0|                  11.0|               0.0|               21.0|\n",
      "|3409532|  519584|          0|              1|               1|           1|            0|                  1.0|                  22.0|               0.0|               23.0|\n",
      "+-------+--------+-----------+---------------+----------------+------------+-------------+---------------------+----------------------+------------------+-------------------+\n",
      "only showing top 3 rows\n",
      "\n"
     ]
    }
   ],
   "source": [
    "print(df.count())\n",
    "df.show(3)"
   ]
  },
  {
   "cell_type": "code",
   "execution_count": 12,
   "metadata": {},
   "outputs": [],
   "source": [
    "df = df.drop('interaction_dow').drop('interaction_hour').drop('delivery_dow').drop('delivery_hour')"
   ]
  },
  {
   "cell_type": "code",
   "execution_count": 8,
   "metadata": {},
   "outputs": [],
   "source": [
    "encoder = OneHotEncoderEstimator(inputCols=[\"interaction_dow_index\", \"interaction_hour_index\", \"delivery_dow_index\", \"delivery_hour_index\"],\n",
    "                                 outputCols=[\"interaction_dow_vec\", \"interaction_hour_vec\", \"delivery_dow_vec\", \"delivery_hour_vec\"])\n",
    "model = encoder.fit(df)\n",
    "df = model.transform(df)"
   ]
  },
  {
   "cell_type": "code",
   "execution_count": 9,
   "metadata": {},
   "outputs": [
    {
     "name": "stdout",
     "output_type": "stream",
     "text": [
      "+-------+--------+-----------+---------------+----------------+------------+-------------+---------------------+----------------------+------------------+-------------------+-------------------+--------------------+----------------+-----------------+\n",
      "|user_id|notif_id|interaction|interaction_dow|interaction_hour|delivery_dow|delivery_hour|interaction_dow_index|interaction_hour_index|delivery_dow_index|delivery_hour_index|interaction_dow_vec|interaction_hour_vec|delivery_dow_vec|delivery_hour_vec|\n",
      "+-------+--------+-----------+---------------+----------------+------------+-------------+---------------------+----------------------+------------------+-------------------+-------------------+--------------------+----------------+-----------------+\n",
      "|8855709|  473050|          0|              2|               0|           1|           23|                  0.0|                  23.0|               0.0|               21.0|      (6,[0],[1.0])|          (23,[],[])|   (6,[0],[1.0])|  (23,[21],[1.0])|\n",
      "|4562680|  473073|          0|              2|               7|           1|           23|                  0.0|                  11.0|               0.0|               21.0|      (6,[0],[1.0])|     (23,[11],[1.0])|   (6,[0],[1.0])|  (23,[21],[1.0])|\n",
      "|3409532|  519584|          0|              1|               1|           1|            0|                  1.0|                  22.0|               0.0|               23.0|      (6,[1],[1.0])|     (23,[22],[1.0])|   (6,[0],[1.0])|       (23,[],[])|\n",
      "+-------+--------+-----------+---------------+----------------+------------+-------------+---------------------+----------------------+------------------+-------------------+-------------------+--------------------+----------------+-----------------+\n",
      "only showing top 3 rows\n",
      "\n"
     ]
    }
   ],
   "source": [
    "df.show(3)"
   ]
  },
  {
   "cell_type": "code",
   "execution_count": 10,
   "metadata": {},
   "outputs": [],
   "source": [
    "df = df.drop('interaction_dow_index').drop('interaction_hour_index').drop('delivery_dow_index').drop('delivery_hour_index')"
   ]
  },
  {
   "cell_type": "code",
   "execution_count": 13,
   "metadata": {},
   "outputs": [
    {
     "name": "stdout",
     "output_type": "stream",
     "text": [
      "+-------+--------+-----------+-------------------+--------------------+----------------+-----------------+\n",
      "|user_id|notif_id|interaction|interaction_dow_vec|interaction_hour_vec|delivery_dow_vec|delivery_hour_vec|\n",
      "+-------+--------+-----------+-------------------+--------------------+----------------+-----------------+\n",
      "|8855709|  473050|          0|      (6,[0],[1.0])|          (23,[],[])|   (6,[0],[1.0])|  (23,[21],[1.0])|\n",
      "|4562680|  473073|          0|      (6,[0],[1.0])|     (23,[11],[1.0])|   (6,[0],[1.0])|  (23,[21],[1.0])|\n",
      "|3409532|  519584|          0|      (6,[1],[1.0])|     (23,[22],[1.0])|   (6,[0],[1.0])|       (23,[],[])|\n",
      "+-------+--------+-----------+-------------------+--------------------+----------------+-----------------+\n",
      "only showing top 3 rows\n",
      "\n"
     ]
    }
   ],
   "source": [
    "df.show(3)"
   ]
  },
  {
   "cell_type": "code",
   "execution_count": 14,
   "metadata": {},
   "outputs": [],
   "source": [
    "data = df.drop('user_id').drop('notif_id')"
   ]
  },
  {
   "cell_type": "code",
   "execution_count": 15,
   "metadata": {},
   "outputs": [
    {
     "name": "stdout",
     "output_type": "stream",
     "text": [
      "+-----------+-------------------+--------------------+----------------+-----------------+\n",
      "|interaction|interaction_dow_vec|interaction_hour_vec|delivery_dow_vec|delivery_hour_vec|\n",
      "+-----------+-------------------+--------------------+----------------+-----------------+\n",
      "|          0|      (6,[0],[1.0])|          (23,[],[])|   (6,[0],[1.0])|  (23,[21],[1.0])|\n",
      "|          0|      (6,[0],[1.0])|     (23,[11],[1.0])|   (6,[0],[1.0])|  (23,[21],[1.0])|\n",
      "|          0|      (6,[1],[1.0])|     (23,[22],[1.0])|   (6,[0],[1.0])|       (23,[],[])|\n",
      "+-----------+-------------------+--------------------+----------------+-----------------+\n",
      "only showing top 3 rows\n",
      "\n"
     ]
    }
   ],
   "source": [
    "data.show(3)"
   ]
  },
  {
   "cell_type": "code",
   "execution_count": null,
   "metadata": {},
   "outputs": [],
   "source": []
  }
 ],
 "metadata": {
  "kernelspec": {
   "display_name": "Python 3",
   "language": "python",
   "name": "python3"
  },
  "language_info": {
   "codemirror_mode": {
    "name": "ipython",
    "version": 3
   },
   "file_extension": ".py",
   "mimetype": "text/x-python",
   "name": "python",
   "nbconvert_exporter": "python",
   "pygments_lexer": "ipython3",
   "version": "3.6.7"
  }
 },
 "nbformat": 4,
 "nbformat_minor": 2
}
