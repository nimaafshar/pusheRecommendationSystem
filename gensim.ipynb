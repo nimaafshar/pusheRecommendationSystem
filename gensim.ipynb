{
 "cells": [
  {
   "cell_type": "code",
   "execution_count": 1,
   "metadata": {},
   "outputs": [],
   "source": [
    "import pandas as pd\n",
    "import numpy as np\n",
    "from sklearn.feature_extraction.text import TfidfVectorizer\n",
    "import math"
   ]
  },
  {
   "cell_type": "code",
   "execution_count": 2,
   "metadata": {},
   "outputs": [],
   "source": [
    "# Input\n",
    "data_file = \"./notifs.txt\"\n",
    "\n",
    "# Delimiter\n",
    "data_file_delimiter = ' '"
   ]
  },
  {
   "cell_type": "code",
   "execution_count": 4,
   "metadata": {},
   "outputs": [],
   "source": [
    "# The max column count a line in the file could have\n",
    "largest_column_count = 5\n",
    "\n",
    "with open(data_file, 'r') as temp_f:\n",
    "    lines = temp_f.readlines()\n",
    "    for l in lines:\n",
    "        column_count = len(l.split(data_file_delimiter)) + 1\n",
    "        largest_column_count = column_count if largest_column_count < column_count else largest_column_count\n",
    "\n",
    "temp_f.close()"
   ]
  },
  {
   "cell_type": "code",
   "execution_count": 5,
   "metadata": {},
   "outputs": [],
   "source": [
    "default_cols = ['notif_id', 'notif_day', 'notif_hour', 'notif_minute', 'property']\n",
    "column_names = ['word' + str(i) for i in range(0, largest_column_count)]\n",
    "all_cols = default_cols + column_names\n",
    "\n",
    "# Read csv\n",
    "\n",
    "data = pd.read_csv(data_file, header=None, delimiter=data_file_delimiter, names=all_cols)\n",
    "\n",
    "# print(df)\n",
    "# print(data[:10])\n",
    "# print(pd.unique(data['property']))\n",
    "\n",
    "data = data.drop(default_cols, axis=1)"
   ]
  },
  {
   "cell_type": "code",
   "execution_count": 6,
   "metadata": {},
   "outputs": [
    {
     "name": "stdout",
     "output_type": "stream",
     "text": [
      "    word0  word1   word2   word3   word4   word5   word6  word7   word8  \\\n",
      "0   135.0   37.0     8.0    39.0   105.0  1503.0  1504.0   25.0     1.0   \n",
      "1    72.0  104.0     1.0   139.0    93.0    95.0   137.0   66.0   537.0   \n",
      "2    72.0  104.0   163.0    86.0    72.0   311.0  1712.0    1.0     NaN   \n",
      "3   198.0  221.0  1426.0   538.0  1713.0    54.0     3.0   27.0  1714.0   \n",
      "4    72.0  104.0     1.0   139.0    93.0    95.0   137.0   66.0   537.0   \n",
      "5   130.0   21.0   122.0   169.0    47.0    66.0    56.0  178.0    45.0   \n",
      "6    96.0  175.0   125.0     5.0    24.0    47.0    24.0   20.0    76.0   \n",
      "7  1297.0  972.0   910.0  1505.0  1427.0  1298.0   873.0  911.0   804.0   \n",
      "8    96.0  175.0   125.0     5.0    24.0    47.0    24.0   20.0    76.0   \n",
      "9    96.0  175.0   125.0     5.0    24.0    47.0    24.0   20.0    76.0   \n",
      "\n",
      "    word9   ...    word63  word64  word65  word66  word67  word68  word69  \\\n",
      "0   161.0   ...       NaN     NaN     NaN     NaN     NaN     NaN     NaN   \n",
      "1   332.0   ...       NaN     NaN     NaN     NaN     NaN     NaN     NaN   \n",
      "2     NaN   ...       NaN     NaN     NaN     NaN     NaN     NaN     NaN   \n",
      "3   716.0   ...       NaN     NaN     NaN     NaN     NaN     NaN     NaN   \n",
      "4   332.0   ...       NaN     NaN     NaN     NaN     NaN     NaN     NaN   \n",
      "5   179.0   ...       NaN     NaN     NaN     NaN     NaN     NaN     NaN   \n",
      "6   114.0   ...       NaN     NaN     NaN     NaN     NaN     NaN     NaN   \n",
      "7  1505.0   ...       NaN     NaN     NaN     NaN     NaN     NaN     NaN   \n",
      "8   114.0   ...       NaN     NaN     NaN     NaN     NaN     NaN     NaN   \n",
      "9   114.0   ...       NaN     NaN     NaN     NaN     NaN     NaN     NaN   \n",
      "\n",
      "   word70  word71  word72  \n",
      "0     NaN     NaN     NaN  \n",
      "1     NaN     NaN     NaN  \n",
      "2     NaN     NaN     NaN  \n",
      "3     NaN     NaN     NaN  \n",
      "4     NaN     NaN     NaN  \n",
      "5     NaN     NaN     NaN  \n",
      "6     NaN     NaN     NaN  \n",
      "7     NaN     NaN     NaN  \n",
      "8     NaN     NaN     NaN  \n",
      "9     NaN     NaN     NaN  \n",
      "\n",
      "[10 rows x 73 columns]\n"
     ]
    }
   ],
   "source": [
    "print(data[:10])"
   ]
  },
  {
   "cell_type": "code",
   "execution_count": 14,
   "metadata": {},
   "outputs": [
    {
     "name": "stdout",
     "output_type": "stream",
     "text": [
      "[['135.0', '37.0', '8.0', '39.0', '105.0', '1503.0', '1504.0', '25.0', '1.0', '161.0', '35.0', '213.0'], ['72.0', '104.0', '1.0', '139.0', '93.0', '95.0', '137.0', '66.0', '537.0', '332.0', '139.0', '93.0', '495.0', '11.0', '1.0', '95.0', '137.0'], ['72.0', '104.0', '163.0', '86.0', '72.0', '311.0', '1712.0', '1.0'], ['198.0', '221.0', '1426.0', '538.0', '1713.0', '54.0', '3.0', '27.0', '1714.0', '716.0', '38.0', '145.0', '1.0', '1011.0', '1588.0', '2.0', '1589.0', '117.0', '1.0', '287.0', '1715.0'], ['72.0', '104.0', '1.0', '139.0', '93.0', '95.0', '137.0', '66.0', '537.0', '332.0', '139.0', '93.0', '495.0', '11.0', '1.0', '95.0', '137.0'], ['130.0', '21.0', '122.0', '169.0', '47.0', '66.0', '56.0', '178.0', '45.0', '179.0', '103.0', '206.0'], ['96.0', '175.0', '125.0', '5.0', '24.0', '47.0', '24.0', '20.0', '76.0', '114.0', '56.0', '445.0', '487.0', '522.0', '512.0', '2.0', '117.0', '131.0'], ['1297.0', '972.0', '910.0', '1505.0', '1427.0', '1298.0', '873.0', '911.0', '804.0', '1505.0', '1427.0'], ['96.0', '175.0', '125.0', '5.0', '24.0', '47.0', '24.0', '20.0', '76.0', '114.0', '56.0', '445.0', '487.0', '522.0', '512.0', '2.0', '117.0', '131.0'], ['96.0', '175.0', '125.0', '5.0', '24.0', '47.0', '24.0', '20.0', '76.0', '114.0', '56.0', '445.0', '487.0', '522.0', '512.0', '2.0', '117.0', '131.0']]\n"
     ]
    }
   ],
   "source": [
    "list_data=[]\n",
    "\n",
    "for i in range(data.shape[0]):\n",
    "    cur_l = []\n",
    "    for s in data.iloc[i].tolist():\n",
    "        if not np.isnan(s):\n",
    "            cur_l.append(str(s))\n",
    "    list_data.append(cur_l)\n",
    "\n",
    "print(list_data[:10])"
   ]
  },
  {
   "cell_type": "code",
   "execution_count": 17,
   "metadata": {},
   "outputs": [],
   "source": [
    "from gensim import models\n",
    "\n",
    "# Train your model, see gensim documentation for parameters\n",
    "model = models.Word2Vec(list_data, min_count=3, size=50, window= 3, iter = 5)"
   ]
  },
  {
   "cell_type": "code",
   "execution_count": 18,
   "metadata": {},
   "outputs": [
    {
     "data": {
      "text/plain": [
       "[('259.0', 0.9716777801513672),\n",
       " ('37.0', 0.9619348049163818),\n",
       " ('738.0', 0.9504183530807495),\n",
       " ('8.0', 0.9300336241722107),\n",
       " ('209.0', 0.9270817637443542),\n",
       " ('1223.0', 0.9233169555664062),\n",
       " ('881.0', 0.9179628491401672),\n",
       " ('847.0', 0.9150368571281433),\n",
       " ('213.0', 0.9078325629234314),\n",
       " ('606.0', 0.9027306437492371)]"
      ]
     },
     "execution_count": 18,
     "metadata": {},
     "output_type": "execute_result"
    }
   ],
   "source": [
    "model.wv.most_similar(positive = ['135.0'])"
   ]
  },
  {
   "cell_type": "code",
   "execution_count": null,
   "metadata": {},
   "outputs": [],
   "source": []
  }
 ],
 "metadata": {
  "kernelspec": {
   "display_name": "Python 3",
   "language": "python",
   "name": "python3"
  },
  "language_info": {
   "codemirror_mode": {
    "name": "ipython",
    "version": 3
   },
   "file_extension": ".py",
   "mimetype": "text/x-python",
   "name": "python",
   "nbconvert_exporter": "python",
   "pygments_lexer": "ipython3",
   "version": "3.7.1"
  }
 },
 "nbformat": 4,
 "nbformat_minor": 2
}
