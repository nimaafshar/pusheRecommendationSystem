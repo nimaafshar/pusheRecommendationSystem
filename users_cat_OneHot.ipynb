{
 "cells": [
  {
   "cell_type": "code",
   "execution_count": 1,
   "metadata": {
    "collapsed": true
   },
   "outputs": [],
   "source": [
    "import pandas as pd\n",
    "import numpy as np\n",
    "import scipy.sparse as sps"
   ]
  },
  {
   "cell_type": "markdown",
   "metadata": {},
   "source": [
    "Here we are going to do the followings about the categoricalfeatures of users:\n",
    "1. fill the Nans of each columns with its 'mode'(only c5 and c6 got Nans)\n",
    "2. then each features is 'onehoted' and stored in as a 'sparse matrix'"
   ]
  },
  {
   "cell_type": "code",
   "execution_count": 2,
   "metadata": {
    "collapsed": true
   },
   "outputs": [],
   "source": [
    "df_users = pd.read_csv( 'users.csv', usecols=[0,1,2,3,4,5,6] )\n",
    "modes = [\"lo4tWwhoe/Q=\",\"TxgzQwAiMiM=\",\"coyERY/CJaE=\",\"yk3oTcFByB8=\",\"zAYUYHDsV6s=\",\"7Xs3zpQ+FE8=\"]\n",
    "for idx in range(6):\n",
    "    col_name = 'C{}'.format( idx+1 )\n",
    "    df_users[col_name] = df_users[col_name].fillna( modes[idx] )"
   ]
  },
  {
   "cell_type": "code",
   "execution_count": 5,
   "metadata": {
    "collapsed": false
   },
   "outputs": [
    {
     "data": {
      "text/plain": [
       "True"
      ]
     },
     "execution_count": 5,
     "metadata": {},
     "output_type": "execute_result"
    }
   ],
   "source": [
    "df_users.user_id.is_monotonic"
   ]
  },
  {
   "cell_type": "code",
   "execution_count": null,
   "metadata": {
    "collapsed": true
   },
   "outputs": [],
   "source": []
  },
  {
   "cell_type": "code",
   "execution_count": null,
   "metadata": {
    "collapsed": true
   },
   "outputs": [],
   "source": []
  },
  {
   "cell_type": "code",
   "execution_count": 4,
   "metadata": {
    "collapsed": false
   },
   "outputs": [],
   "source": [
    "#\n",
    "c_dict = dict()\n",
    "for idx in range(6):\n",
    "    col_name = 'C{}'.format( idx+1 )\n",
    "    _uniques = df_users[col_name].unique()\n",
    "    c_dict[ col_name ] = dict(zip( _uniques, range(len(_uniques)) ))\n",
    "# Replace Modes\n",
    "for idx in range(6):\n",
    "    col_name = 'C{}'.format( idx+1 )\n",
    "    if( np.nan in c_dict[col_name] ):\n",
    "        c_dict[col_name][np.nan] = c_dict[col_name][modes[idx]]"
   ]
  },
  {
   "cell_type": "code",
   "execution_count": 5,
   "metadata": {
    "collapsed": true
   },
   "outputs": [],
   "source": [
    "sparses = dict()"
   ]
  },
  {
   "cell_type": "code",
   "execution_count": 6,
   "metadata": {
    "collapsed": false
   },
   "outputs": [
    {
     "name": "stdout",
     "output_type": "stream",
     "text": [
      "C1\n",
      "C2\n",
      "C3\n",
      "C4\n",
      "C5\n",
      "C6\n"
     ]
    }
   ],
   "source": [
    "for col_name in c_dict:\n",
    "    # Report\n",
    "    print( col_name )\n",
    "    # Skip\n",
    "    if( col_name in sparses ):\n",
    "        continue\n",
    "    # Look-up-Table\n",
    "    lut = c_dict[col_name]\n",
    "    # Create Sparse Matrix\n",
    "    _sparse = sps.dok_matrix( (len(df_users),len(lut)), dtype=np.bool )\n",
    "    # Fill\n",
    "    for idx_row, value in enumerate(df_users[col_name]):\n",
    "        idx_col = lut[value]\n",
    "        _sparse[idx_row,idx_col] = True\n",
    "    # Store\n",
    "    sparses[col_name] = sps.csr_matrix( _sparse, dtype=np.bool )"
   ]
  },
  {
   "cell_type": "code",
   "execution_count": 7,
   "metadata": {
    "collapsed": false
   },
   "outputs": [],
   "source": [
    "sparse_all = sps.csr_matrix(\n",
    "    sps.hstack( [ sparses['C{}'.format(idx+1)] for idx in range(6) ], dtype=np.bool ),\n",
    "    dtype = np.bool\n",
    ")"
   ]
  },
  {
   "cell_type": "markdown",
   "metadata": {},
   "source": [
    "# Sparse matrix of OneHoteEncoder of Categorical features"
   ]
  },
  {
   "cell_type": "code",
   "execution_count": 8,
   "metadata": {
    "collapsed": false
   },
   "outputs": [],
   "source": [
    "sps.save_npz( 'users_cats.npz', sparse_all )"
   ]
  },
  {
   "cell_type": "code",
   "execution_count": 9,
   "metadata": {
    "collapsed": true
   },
   "outputs": [],
   "source": [
    "X = sps.load_npz( 'users_cats.npz' )"
   ]
  },
  {
   "cell_type": "code",
   "execution_count": 16,
   "metadata": {
    "collapsed": false
   },
   "outputs": [
    {
     "data": {
      "text/plain": [
       "array([[1, 0, 0, ..., 0, 0, 0],\n",
       "       [1, 0, 0, ..., 0, 0, 0],\n",
       "       [1, 0, 0, ..., 0, 0, 0],\n",
       "       ..., \n",
       "       [1, 0, 0, ..., 0, 0, 0],\n",
       "       [1, 0, 0, ..., 0, 0, 0],\n",
       "       [1, 0, 0, ..., 0, 0, 0]], dtype=uint64)"
      ]
     },
     "execution_count": 16,
     "metadata": {},
     "output_type": "execute_result"
    }
   ],
   "source": [
    "np.array(X[10:40].todense(), dtype=np.uint)"
   ]
  },
  {
   "cell_type": "markdown",
   "metadata": {},
   "source": [
    "# Data Generating Function for AutoEncoder"
   ]
  },
  {
   "cell_type": "code",
   "execution_count": 36,
   "metadata": {
    "collapsed": false
   },
   "outputs": [],
   "source": [
    "# Encoder Data Generator\n",
    "class EncoderDataGenerator(keras.utils.Sequence):\n",
    "    'Generates data for Keras'\n",
    "    def __init__(self, X_dense, X_sparse, batch_size = 32, shuffle = True):\n",
    "        'Initialization'\n",
    "        self.batch_size = batch_size\n",
    "        self.shuffle = shuffle\n",
    "        \n",
    "        self.X_dense = X_dense\n",
    "        self.X_sparse = X_sparse\n",
    "        \n",
    "        self.n = X_dense.shape[0] if (not X_dense is None) else X_sparse.shape[0]\n",
    "        \n",
    "        self.on_epoch_end()\n",
    "    def __len__(self):\n",
    "        'Denotes the number of batches per epoch'\n",
    "        return self.n // self.batch_size\n",
    "\n",
    "    def __getitem__(self, index):\n",
    "        'Generate one batch of data'\n",
    "        # Generate indices of the batch\n",
    "        indices = self.indices[ index*self.batch_size : (index+1)*self.batch_size ]\n",
    "        # Cases\n",
    "        if( self.X_dense is None ):\n",
    "            _X = self.X_sparse[indices].todense()\n",
    "        elif( self.X_sparse is None ):\n",
    "            _X = self.X_dense[indices]\n",
    "        else:\n",
    "            _X = np.hstack( (self.X_dense[indices], self.X_sparse[indices].todense()) )\n",
    "        # Change Type\n",
    "        _X = _X.astype( np.float )\n",
    "        return _X, _X\n",
    "\n",
    "    def on_epoch_end(self):\n",
    "        'Updates indices after each epoch'\n",
    "        self.indices = np.arange(self.n)\n",
    "        if self.shuffle == True:\n",
    "            np.random.shuffle(self.indices)"
   ]
  },
  {
   "cell_type": "code",
   "execution_count": 43,
   "metadata": {
    "collapsed": false
   },
   "outputs": [],
   "source": [
    "data_generator = EncoderDataGenerator( None, X_sparse, batch_size = 2**10 )\n",
    "# data_generator = EncoderDataGenerator( X_dense, None, batch_size = 32 )\n",
    "# data_generator = EncoderDataGenerator( X_dense, X_sparse, batch_size = 32 )"
   ]
  },
  {
   "cell_type": "code",
   "execution_count": null,
   "metadata": {
    "collapsed": true
   },
   "outputs": [],
   "source": []
  },
  {
   "cell_type": "code",
   "execution_count": null,
   "metadata": {
    "collapsed": true
   },
   "outputs": [],
   "source": []
  },
  {
   "cell_type": "code",
   "execution_count": null,
   "metadata": {
    "collapsed": true
   },
   "outputs": [],
   "source": []
  },
  {
   "cell_type": "code",
   "execution_count": null,
   "metadata": {
    "collapsed": true
   },
   "outputs": [],
   "source": []
  },
  {
   "cell_type": "code",
   "execution_count": null,
   "metadata": {
    "collapsed": true
   },
   "outputs": [],
   "source": []
  },
  {
   "cell_type": "code",
   "execution_count": null,
   "metadata": {
    "collapsed": true
   },
   "outputs": [],
   "source": []
  },
  {
   "cell_type": "code",
   "execution_count": null,
   "metadata": {
    "collapsed": true
   },
   "outputs": [],
   "source": [
    "\n",
    "\n",
    "\n",
    "\n",
    "\n",
    "\n",
    "\n",
    "\n",
    "\n",
    "\n",
    "\n",
    "\n",
    "\n",
    "\n",
    "\n",
    "\n"
   ]
  }
 ],
 "metadata": {
  "kernelspec": {
   "display_name": "Python 3",
   "language": "python",
   "name": "python3"
  },
  "language_info": {
   "codemirror_mode": {
    "name": "ipython",
    "version": 3
   },
   "file_extension": ".py",
   "mimetype": "text/x-python",
   "name": "python",
   "nbconvert_exporter": "python",
   "pygments_lexer": "ipython3",
   "version": "3.6.8"
  }
 },
 "nbformat": 4,
 "nbformat_minor": 2
}
