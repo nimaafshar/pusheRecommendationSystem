{
 "cells": [
  {
   "cell_type": "code",
   "execution_count": 7,
   "metadata": {},
   "outputs": [
    {
     "name": "stderr",
     "output_type": "stream",
     "text": [
      "Using TensorFlow backend.\n"
     ]
    }
   ],
   "source": [
    "# -*- encoding:utf-8 -*-\n",
    "import numpy as np\n",
    "import pickle\n",
    "import keras\n",
    "from keras.utils import *\n",
    "from keras.layers import *\n",
    "from keras.models import *\n",
    "from keras.callbacks import ModelCheckpoint\n",
    "import argparse\n",
    "from keras.preprocessing.sequence import pad_sequences\n",
    "import os"
   ]
  },
  {
   "cell_type": "code",
   "execution_count": 1,
   "metadata": {},
   "outputs": [],
   "source": [
    "import numpy as np"
   ]
  },
  {
   "cell_type": "code",
   "execution_count": 2,
   "metadata": {},
   "outputs": [],
   "source": [
    "onehot = np.fromfile('onehot.txt',dtype=np.uint8)"
   ]
  },
  {
   "cell_type": "code",
   "execution_count": 3,
   "metadata": {},
   "outputs": [],
   "source": [
    "base_shape = (6342, 68, 2000)\n",
    "onehot = onehot.reshape(base_shape)#reshaping to base shape"
   ]
  },
  {
   "cell_type": "code",
   "execution_count": 4,
   "metadata": {},
   "outputs": [],
   "source": [
    "#returning one hot for checking padding\n",
    "def show(a):\n",
    "    arr = []\n",
    "    for item in a:\n",
    "        arr.append(np.argmax(item))\n",
    "    return arr"
   ]
  },
  {
   "cell_type": "code",
   "execution_count": 9,
   "metadata": {},
   "outputs": [],
   "source": [
    "# the inputs should be already embedded ==> check prepare_dataset.py for further information\n",
    "seq_length = 68\n",
    "emb_dim = 2000\n",
    "hidden_size = 8\n",
    "batch_size = 32\n",
    "n_epochs = 1\n",
    "opt = 'adam'\n",
    "embedded_inputs = Input(shape=(seq_length, emb_dim))\n",
    "encoded_inputs = LSTM(hidden_size,return_sequences=True, name=\"encoder\")(embedded_inputs)\n",
    "decoded = RepeatVector(seq_length)(encoded_inputs)\n",
    "decoded = LSTM(emb_dim, return_sequences=True)(decoded)     \n",
    "autoencoder = Model(embedded_inputs, decoded)\n",
    "autoencoder.compile(loss='mse', optimizer=opt) # we use 'mse' loss function to train our autoencoder"
   ]
  },
  {
   "cell_type": "code",
   "execution_count": 10,
   "metadata": {},
   "outputs": [
    {
     "name": "stdout",
     "output_type": "stream",
     "text": [
      "_________________________________________________________________\n",
      "Layer (type)                 Output Shape              Param #   \n",
      "=================================================================\n",
      "input_2 (InputLayer)         (None, 68, 2000)          0         \n",
      "_________________________________________________________________\n",
      "encoder (LSTM)               (None, 32)                260224    \n",
      "_________________________________________________________________\n",
      "repeat_vector_2 (RepeatVecto (None, 68, 32)            0         \n",
      "_________________________________________________________________\n",
      "lstm_2 (LSTM)                (None, 68, 2000)          16264000  \n",
      "=================================================================\n",
      "Total params: 16,524,224\n",
      "Trainable params: 16,524,224\n",
      "Non-trainable params: 0\n",
      "_________________________________________________________________\n",
      "None\n",
      "Now loading data...\n",
      "(6342, 68, 2000)\n",
      "Found 6342 sequences.\n",
      "Now training the model...\n",
      "Train on 5073 samples, validate on 1269 samples\n",
      "Epoch 1/1\n",
      "5073/5073 [==============================] - 1082s 213ms/step - loss: 2.5864e-04 - val_loss: 1.7129e-04\n"
     ]
    },
    {
     "data": {
      "text/plain": [
       "<keras.callbacks.History at 0x1c6fb98d940>"
      ]
     },
     "execution_count": 10,
     "metadata": {},
     "output_type": "execute_result"
    }
   ],
   "source": [
    "print(autoencoder.summary())\n",
    "print(\"Now loading data...\")    \n",
    "print(onehot.shape)    \n",
    "print('Found %s sequences.' % len(onehot))    \n",
    "print(\"Now training the model...\")    \n",
    "# we automatically save the best autoencoder model during the training\n",
    "checkpoint = ModelCheckpoint(filepath='model.h5', save_best_only=True)                \n",
    "autoencoder.fit(onehot, onehot,\n",
    "        batch_size=batch_size, epochs=n_epochs, verbose=1, validation_split=0.2, callbacks=[checkpoint])"
   ]
  },
  {
   "cell_type": "code",
   "execution_count": 18,
   "metadata": {},
   "outputs": [
    {
     "data": {
      "text/plain": [
       "[1999,\n",
       " 1999,\n",
       " 1999,\n",
       " 1999,\n",
       " 1999,\n",
       " 1999,\n",
       " 1999,\n",
       " 1999,\n",
       " 1999,\n",
       " 1999,\n",
       " 1999,\n",
       " 1999,\n",
       " 1999,\n",
       " 1999,\n",
       " 1999,\n",
       " 1999,\n",
       " 1999,\n",
       " 1999,\n",
       " 1999,\n",
       " 1999,\n",
       " 1999,\n",
       " 1999,\n",
       " 1999,\n",
       " 1999,\n",
       " 1999,\n",
       " 1999,\n",
       " 1999,\n",
       " 1999,\n",
       " 1999,\n",
       " 1999,\n",
       " 1999,\n",
       " 1999,\n",
       " 1999,\n",
       " 1999,\n",
       " 1999,\n",
       " 1999,\n",
       " 1999,\n",
       " 1999,\n",
       " 1999,\n",
       " 1999,\n",
       " 1999,\n",
       " 1999,\n",
       " 1999,\n",
       " 1999,\n",
       " 1999,\n",
       " 1999,\n",
       " 1999,\n",
       " 1999,\n",
       " 1999,\n",
       " 1999,\n",
       " 1999,\n",
       " 1999,\n",
       " 1999,\n",
       " 1999,\n",
       " 1999,\n",
       " 1999,\n",
       " 1999,\n",
       " 1999,\n",
       " 1999,\n",
       " 1999,\n",
       " 1999,\n",
       " 1999,\n",
       " 1999,\n",
       " 1999,\n",
       " 1999,\n",
       " 1999,\n",
       " 1999,\n",
       " 1999]"
      ]
     },
     "execution_count": 18,
     "metadata": {},
     "output_type": "execute_result"
    }
   ],
   "source": [
    "show(autoencoder.predict(onehot[0:1])[0])"
   ]
  },
  {
   "cell_type": "code",
   "execution_count": null,
   "metadata": {},
   "outputs": [],
   "source": [
    "#save model shape\n",
    "model_json = autoencoder.to_json()\n",
    "with open(\"autoencoder.json\", \"w\") as json_file:\n",
    "    json_file.write(model_json)\n",
    "model.save_weights(\"model_complete.h5\")"
   ]
  },
  {
   "cell_type": "code",
   "execution_count": null,
   "metadata": {},
   "outputs": [],
   "source": [
    "#load mode\n",
    "json_file = open('autoencoder.json', 'r')\n",
    "loaded_model_json = json_file.read()\n",
    "json_file.close()\n",
    "autoencoder = model_from_json(loaded_model_json)\n",
    "# load weights into new model\n",
    "loaded_model.load_weights(\"model_complete.h5\")"
   ]
  },
  {
   "cell_type": "code",
   "execution_count": null,
   "metadata": {},
   "outputs": [],
   "source": []
  },
  {
   "cell_type": "code",
   "execution_count": null,
   "metadata": {},
   "outputs": [],
   "source": []
  }
 ],
 "metadata": {
  "kernelspec": {
   "display_name": "Python 3",
   "language": "python",
   "name": "python3"
  },
  "language_info": {
   "codemirror_mode": {
    "name": "ipython",
    "version": 3
   },
   "file_extension": ".py",
   "mimetype": "text/x-python",
   "name": "python",
   "nbconvert_exporter": "python",
   "pygments_lexer": "ipython3",
   "version": "3.6.8"
  }
 },
 "nbformat": 4,
 "nbformat_minor": 2
}
