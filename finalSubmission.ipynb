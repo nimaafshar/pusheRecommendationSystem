{
 "cells": [
  {
   "cell_type": "code",
   "execution_count": 2,
   "metadata": {},
   "outputs": [],
   "source": [
    "import pandas as pd\n",
    "import numpy as np"
   ]
  },
  {
   "cell_type": "code",
   "execution_count": 30,
   "metadata": {},
   "outputs": [],
   "source": [
    "test=pd.read_csv(\"/Users/amirhossein/Desktop/all/Uni/MS/rahnama/recommander/data/data1/recommender/test.csv\")"
   ]
  },
  {
   "cell_type": "code",
   "execution_count": 31,
   "metadata": {},
   "outputs": [],
   "source": [
    "notif_number=pd.read_csv(\"/Users/amirhossein/Desktop/all/Uni/MS/rahnama/recommander/data/data1/recommender/grouped_by_notif.csv\")\n",
    "\n",
    "\n"
   ]
  },
  {
   "cell_type": "code",
   "execution_count": 32,
   "metadata": {},
   "outputs": [
    {
     "name": "stdout",
     "output_type": "stream",
     "text": [
      "10928823\n"
     ]
    }
   ],
   "source": [
    "print(len(test))"
   ]
  },
  {
   "cell_type": "code",
   "execution_count": 33,
   "metadata": {},
   "outputs": [],
   "source": [
    "test_id=test['user_id']\n",
    "notif_id=test['notif_id']\n",
    "notifs_count={}\n"
   ]
  },
  {
   "cell_type": "code",
   "execution_count": 34,
   "metadata": {},
   "outputs": [
    {
     "name": "stdout",
     "output_type": "stream",
     "text": [
      "<class 'numpy.int64'>\n"
     ]
    }
   ],
   "source": [
    "print((type)(test_id[0]))\n",
    "\n"
   ]
  },
  {
   "cell_type": "code",
   "execution_count": 32,
   "metadata": {},
   "outputs": [],
   "source": [
    "rejected=pd.read_csv(\"/Users/amirhossein/Desktop/all/Uni/MS/rahnama/recommander/data/data1/recommender/rejected.csv\")\n",
    "\n",
    "accepted=pd.read_csv(\"/Users/amirhossein/Desktop/all/Uni/MS/rahnama/recommander/data/data1/recommender/accepted.csv\")\n",
    "\n",
    "\n",
    "\n"
   ]
  },
  {
   "cell_type": "code",
   "execution_count": 33,
   "metadata": {},
   "outputs": [],
   "source": [
    "rejected_ids=rejected['0']\n",
    "#print(type(rejected_ids))\n",
    "rejected_ids=rejected_ids.to_list()\n",
    "\n",
    "accepted=accepted['0']\n",
    "#print(type(rejected_ids))\n",
    "accepted=accepted.to_list()"
   ]
  },
  {
   "cell_type": "code",
   "execution_count": 96,
   "metadata": {},
   "outputs": [],
   "source": [
    "#for i in range(0,len(test_id)):\n",
    "    \n",
    "#    if(test_id[i] in clickers):\n",
    " #       print(i)\n",
    "  #      a.append(max(new_list[i],clickers[test_id[i]])\n",
    "   #     a.append(clickers[test_id[i]])\n",
    "    #    print(a[i])\n",
    "     #   a.append(1)\n",
    "    \n",
    "  #  elif(test_id[i] in big_zero_set):\n",
    "   #     a.append(0.1)\n",
    "    #else:\n",
    "     #   a.append(new_list[i])\n",
    "    \n",
    "    \n",
    " \n",
    "\n",
    "a=[]\n",
    "\n",
    "               \n",
    "                 \n",
    "for i in range(0,len(test_id)):\n",
    "    \n",
    "    if(test_id[i] in big_zero_set):\n",
    " #       print(i)\n",
    "        a.append(0.1)\n",
    "    else:\n",
    "        try:\n",
    "            a.append(max(new_list[i],clickers[test_id[i]]))\n",
    "        except:\n",
    "            a.append(new_list[i])\n",
    "    \n",
    " \n"
   ]
  },
  {
   "cell_type": "code",
   "execution_count": 27,
   "metadata": {},
   "outputs": [
    {
     "name": "stdout",
     "output_type": "stream",
     "text": [
      "2582590\n"
     ]
    }
   ],
   "source": [
    "print(len(rejected_ids))"
   ]
  },
  {
   "cell_type": "code",
   "execution_count": 43,
   "metadata": {},
   "outputs": [
    {
     "name": "stdout",
     "output_type": "stream",
     "text": [
      "1697006\n"
     ]
    }
   ],
   "source": [
    "print(len(accepted))"
   ]
  },
  {
   "cell_type": "code",
   "execution_count": 48,
   "metadata": {},
   "outputs": [
    {
     "name": "stdout",
     "output_type": "stream",
     "text": [
      "1697006\n",
      "6696\n"
     ]
    }
   ],
   "source": [
    "print(len(accepted))\n",
    "setDifference=np.setdiff1d(accepted,rejected_ids)\n",
    "print(len(setDifference))"
   ]
  },
  {
   "cell_type": "code",
   "execution_count": 15,
   "metadata": {},
   "outputs": [
    {
     "name": "stdout",
     "output_type": "stream",
     "text": [
      "752215\n"
     ]
    }
   ],
   "source": [
    "print(len(setDifference))"
   ]
  },
  {
   "cell_type": "code",
   "execution_count": 44,
   "metadata": {},
   "outputs": [],
   "source": [
    "intersection=np.intersect1d(rejected_ids,accepted)"
   ]
  },
  {
   "cell_type": "code",
   "execution_count": 45,
   "metadata": {},
   "outputs": [
    {
     "name": "stdout",
     "output_type": "stream",
     "text": [
      "1690310\n"
     ]
    }
   ],
   "source": [
    "print(len(np.unique(intersection)))"
   ]
  },
  {
   "cell_type": "code",
   "execution_count": 20,
   "metadata": {},
   "outputs": [
    {
     "data": {
      "text/plain": [
       "False"
      ]
     },
     "execution_count": 20,
     "metadata": {},
     "output_type": "execute_result"
    }
   ],
   "source": [
    "accepted.shape[0] > len(intersection)"
   ]
  },
  {
   "cell_type": "code",
   "execution_count": 21,
   "metadata": {},
   "outputs": [
    {
     "data": {
      "text/plain": [
       "0"
      ]
     },
     "execution_count": 21,
     "metadata": {},
     "output_type": "execute_result"
    }
   ],
   "source": [
    "a= set(rejected_ids).intersection(set(accepted))\n",
    "len(a)"
   ]
  },
  {
   "cell_type": "code",
   "execution_count": 52,
   "metadata": {},
   "outputs": [
    {
     "name": "stdout",
     "output_type": "stream",
     "text": [
      "6696\n"
     ]
    }
   ],
   "source": [
    "setDifference0=np.setdiff1d(accepted,rejected_ids)\n",
    "print(len(setDifference0))\n",
    "\n"
   ]
  },
  {
   "cell_type": "code",
   "execution_count": 54,
   "metadata": {},
   "outputs": [
    {
     "name": "stdout",
     "output_type": "stream",
     "text": [
      "892280\n"
     ]
    }
   ],
   "source": [
    "setDifference1=np.setdiff1d(rejected_ids,accepted)\n",
    "print(len(setDifference1))\n",
    "\n"
   ]
  },
  {
   "cell_type": "code",
   "execution_count": 56,
   "metadata": {},
   "outputs": [],
   "source": [
    "set1=set(setDifference1)\n",
    "set0=set(setDifference0)"
   ]
  },
  {
   "cell_type": "code",
   "execution_count": 61,
   "metadata": {},
   "outputs": [
    {
     "name": "stdout",
     "output_type": "stream",
     "text": [
      "10928823\n"
     ]
    }
   ],
   "source": [
    "print(len(a))"
   ]
  },
  {
   "cell_type": "code",
   "execution_count": 65,
   "metadata": {},
   "outputs": [
    {
     "name": "stdout",
     "output_type": "stream",
     "text": [
      "0.5\n"
     ]
    }
   ],
   "source": [
    "print(a[74])"
   ]
  },
  {
   "cell_type": "code",
   "execution_count": 66,
   "metadata": {},
   "outputs": [],
   "source": [
    "df=pd.DataFrame({'col':a})"
   ]
  },
  {
   "cell_type": "code",
   "execution_count": 67,
   "metadata": {},
   "outputs": [],
   "source": [
    "df.to_csv(\"first.csv\")"
   ]
  },
  {
   "cell_type": "code",
   "execution_count": 104,
   "metadata": {},
   "outputs": [],
   "source": [
    "#for i in range(0,len(a)):\n",
    "#    if(a[i]==1):\n",
    "#        a[i]=0.5\n",
    "with open('your_file.txt', 'w') as f:\n",
    "    for item in a:\n",
    "        f.write(\"%s\\n\" % item)\n"
   ]
  },
  {
   "cell_type": "code",
   "execution_count": 36,
   "metadata": {},
   "outputs": [],
   "source": [
    "text_file = open(\"/Users/amirhossein/Desktop/ans.txt\", \"r\")\n",
    "lines = text_file.readlines()\n"
   ]
  },
  {
   "cell_type": "code",
   "execution_count": 37,
   "metadata": {},
   "outputs": [],
   "source": [
    "new_list = []\n",
    "for item in lines:\n",
    "    new_list.append(float(item))\n"
   ]
  },
  {
   "cell_type": "code",
   "execution_count": 79,
   "metadata": {},
   "outputs": [
    {
     "name": "stdout",
     "output_type": "stream",
     "text": [
      "<class 'float'>\n"
     ]
    }
   ],
   "source": [
    "print((type)(new_list[0]))"
   ]
  },
  {
   "cell_type": "code",
   "execution_count": 19,
   "metadata": {},
   "outputs": [],
   "source": [
    "user_rate=pd.read_csv(\"/Users/amirhossein/Desktop/all/Uni/MS/rahnama/recommander/data/data1/recommender/user_rate.csv\")\n",
    "\n"
   ]
  },
  {
   "cell_type": "code",
   "execution_count": 15,
   "metadata": {},
   "outputs": [
    {
     "name": "stdout",
     "output_type": "stream",
     "text": [
      "<class 'numpy.int64'>\n"
     ]
    }
   ],
   "source": [
    "print((type)(ids_users[0]))"
   ]
  },
  {
   "cell_type": "code",
   "execution_count": 38,
   "metadata": {},
   "outputs": [],
   "source": [
    "ids_users=user_rate['user_id']"
   ]
  },
  {
   "cell_type": "code",
   "execution_count": 56,
   "metadata": {},
   "outputs": [],
   "source": [
    "q1=user_rate[user_rate['rate']>0.1]"
   ]
  },
  {
   "cell_type": "code",
   "execution_count": 59,
   "metadata": {},
   "outputs": [
    {
     "name": "stdout",
     "output_type": "stream",
     "text": [
      "          user_id      rate\n",
      "0               3  0.038462\n",
      "1               4  0.000000\n",
      "2               7  1.000000\n",
      "3               8  0.054795\n",
      "4               9  0.043478\n",
      "5              10  0.000000\n",
      "6              12  0.000000\n",
      "7              16  0.072464\n",
      "8              17  0.410256\n",
      "9              19  0.000000\n",
      "10             20  0.088889\n",
      "11             21  0.375000\n",
      "12             23  0.033898\n",
      "13             24  0.037037\n",
      "14             25  0.000000\n",
      "15             26  0.000000\n",
      "16             27  0.200000\n",
      "17             28  0.012195\n",
      "18             31  0.040000\n",
      "19             33  0.100000\n",
      "20             36  0.346154\n",
      "21             37  0.000000\n",
      "22             39  0.093023\n",
      "23             40  0.000000\n",
      "24             41  0.040000\n",
      "25             43  0.000000\n",
      "26             44  0.031250\n",
      "27             45  0.032258\n",
      "28             47  0.051948\n",
      "29             48  0.000000\n",
      "...           ...       ...\n",
      "2589256  11195934  0.000000\n",
      "2589257  11195988  0.066667\n",
      "2589258  11196025  0.173913\n",
      "2589259  11196029  0.000000\n",
      "2589260  11196042  0.230769\n",
      "2589261  11196046  0.000000\n",
      "2589262  11196068  0.000000\n",
      "2589263  11196127  0.000000\n",
      "2589264  11196156  0.000000\n",
      "2589265  11196158  0.000000\n",
      "2589266  11196286  0.000000\n",
      "2589267  11196528  0.000000\n",
      "2589268  11196557  0.000000\n",
      "2589269  11196580  0.000000\n",
      "2589270  11196583  0.000000\n",
      "2589271  11196616  0.000000\n",
      "2589272  11196624  0.000000\n",
      "2589273  11196630  0.272727\n",
      "2589274  11196743  0.769231\n",
      "2589275  11196767  0.000000\n",
      "2589276  11197326  0.000000\n",
      "2589277  11197438  0.166667\n",
      "2589278  11197546  0.538462\n",
      "2589279  11197618  0.071429\n",
      "2589280  11198024  0.769231\n",
      "2589281  11198088  0.000000\n",
      "2589282  11198359  0.000000\n",
      "2589283  11198573  0.000000\n",
      "2589284  11198606  0.000000\n",
      "2589285  11199369  0.200000\n",
      "\n",
      "[2589286 rows x 2 columns]\n"
     ]
    }
   ],
   "source": [
    "print(user_rate)"
   ]
  },
  {
   "cell_type": "code",
   "execution_count": 62,
   "metadata": {},
   "outputs": [],
   "source": [
    "clickers={}\n",
    "#for i in range(0,len(q1)):\n",
    "#    clickers[q1.iloc[i,0]]=q1.iloc[i,1]\n",
    "    \n",
    "    \n",
    "for i in range(0,len(user_rate)):\n",
    "    clickers[user_rate.iloc[i,0]]=user_rate.iloc[i,1]"
   ]
  },
  {
   "cell_type": "code",
   "execution_count": 55,
   "metadata": {},
   "outputs": [],
   "source": [
    "if(53835 in clickers):\n",
    "    print(\"saalm\")"
   ]
  },
  {
   "cell_type": "code",
   "execution_count": 56,
   "metadata": {},
   "outputs": [
    {
     "name": "stdout",
     "output_type": "stream",
     "text": [
      "<class 'numpy.float64'>\n"
     ]
    }
   ],
   "source": [
    "print((type)(clickers[11186578]))"
   ]
  },
  {
   "cell_type": "code",
   "execution_count": 58,
   "metadata": {},
   "outputs": [
    {
     "name": "stdout",
     "output_type": "stream",
     "text": [
      "39926\n"
     ]
    }
   ],
   "source": [
    "print(len(clickers))"
   ]
  },
  {
   "cell_type": "code",
   "execution_count": 3,
   "metadata": {},
   "outputs": [],
   "source": [
    "train_intercation=pd.read_csv(\"/Users/amirhossein/Desktop/all/Uni/MS/rahnama/recommander/data/data1/recommender/train_interactions.csv\")\n",
    "\n",
    "\n"
   ]
  },
  {
   "cell_type": "code",
   "execution_count": 16,
   "metadata": {},
   "outputs": [],
   "source": [
    "y=train_intercation.groupby(['user_id']).size().reset_index(name='counts')\n"
   ]
  },
  {
   "cell_type": "code",
   "execution_count": 20,
   "metadata": {},
   "outputs": [],
   "source": [
    "q=user_rate[user_rate['rate']<0.002]"
   ]
  },
  {
   "cell_type": "code",
   "execution_count": 22,
   "metadata": {},
   "outputs": [],
   "source": [
    "#print(q)\n",
    "zero_set=set()\n",
    "for i in range(0,len(q)):\n",
    "    zero_set.add(q.iloc[i,0])\n",
    "    "
   ]
  },
  {
   "cell_type": "code",
   "execution_count": 24,
   "metadata": {},
   "outputs": [
    {
     "name": "stdout",
     "output_type": "stream",
     "text": [
      "892280\n"
     ]
    }
   ],
   "source": [
    "print(len(zero_set))"
   ]
  },
  {
   "cell_type": "code",
   "execution_count": 94,
   "metadata": {},
   "outputs": [
    {
     "name": "stdout",
     "output_type": "stream",
     "text": [
      "sala\n"
     ]
    }
   ],
   "source": [
    "big_zero_set=set()\n",
    "for i in range(0,len(y)):\n",
    "    if(y.iloc[i,0] in zero_set):\n",
    "        if(y.iloc[i,1]>10):\n",
    "       #     print(i)\n",
    "            big_zero_set.add(y.iloc[i,0])\n",
    "print(\"sala\")"
   ]
  },
  {
   "cell_type": "code",
   "execution_count": 95,
   "metadata": {},
   "outputs": [
    {
     "name": "stdout",
     "output_type": "stream",
     "text": [
      "892280\n"
     ]
    }
   ],
   "source": [
    "print(len(big_zero_set))"
   ]
  },
  {
   "cell_type": "code",
   "execution_count": 103,
   "metadata": {},
   "outputs": [],
   "source": [
    "for i in range(0,len(a)):\n",
    "    if(a[i]!=0.1):\n",
    "        a[i]=a[i]**0.9\n",
    "    "
   ]
  },
  {
   "cell_type": "code",
   "execution_count": null,
   "metadata": {},
   "outputs": [],
   "source": []
  }
 ],
 "metadata": {
  "kernelspec": {
   "display_name": "Python 3",
   "language": "python",
   "name": "python3"
  },
  "language_info": {
   "codemirror_mode": {
    "name": "ipython",
    "version": 3
   },
   "file_extension": ".py",
   "mimetype": "text/x-python",
   "name": "python",
   "nbconvert_exporter": "python",
   "pygments_lexer": "ipython3",
   "version": "3.6.8"
  }
 },
 "nbformat": 4,
 "nbformat_minor": 2
}
