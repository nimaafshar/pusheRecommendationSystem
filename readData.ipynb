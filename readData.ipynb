{
 "cells": [
  {
   "cell_type": "code",
   "execution_count": 2,
   "metadata": {},
   "outputs": [],
   "source": [
    "from pyspark.sql import SparkSession\n",
    "\n",
    "spark = SparkSession \\\n",
    "    .builder \\\n",
    "    .appName(\"Python Spark SQL basic example\") \\\n",
    "    .config(\"spark.some.config.option\", \"some-value\") \\\n",
    "    .getOrCreate()\n"
   ]
  },
  {
   "cell_type": "code",
   "execution_count": 3,
   "metadata": {},
   "outputs": [],
   "source": [
    "df = spark.read.csv(\"/Users/amirhossein/Desktop/all/Uni/MS/rahnama/recommander/data/data1/recommender/train_interactions.csv\",\n",
    "                    header=\"true\")\n"
   ]
  },
  {
   "cell_type": "code",
   "execution_count": 3,
   "metadata": {},
   "outputs": [
    {
     "name": "stdout",
     "output_type": "stream",
     "text": [
      "+--------+--------+-----------+---------------+----------------+---------------+------------+-------------+------------+\n",
      "| user_id|notif_id|interaction|interaction_dow|interaction_hour|interaction_min|delivery_dow|delivery_hour|delivery_min|\n",
      "+--------+--------+-----------+---------------+----------------+---------------+------------+-------------+------------+\n",
      "|  654408|  468552|          0|              1|               1|             57|           1|            1|          55|\n",
      "| 9272634|  517721|          0|              1|               0|             15|           1|            0|           1|\n",
      "|  380089|  519842|          0|              1|               0|             21|           1|            0|          20|\n",
      "| 2586969|  410941|          0|              1|               2|             12|           1|            1|          57|\n",
      "|  491160|  463087|          0|              1|               1|             37|           1|            1|          27|\n",
      "| 1581663|  464259|          0|              1|               1|             54|           1|            1|          43|\n",
      "| 1170897|  461570|          0|              1|               0|             20|           1|            0|          19|\n",
      "|  897872|  521444|          0|              1|               1|              6|           1|            0|          29|\n",
      "| 1644236|  517398|          0|              1|               0|             27|           1|            0|          26|\n",
      "|10908202|  464245|          0|              1|               0|             55|           1|            0|          46|\n",
      "|10647968|  463092|          0|              1|               0|             33|           1|            0|          33|\n",
      "|10274938|  521728|          0|              1|               2|             43|           1|            0|          11|\n",
      "|10387291|  473092|          0|              2|               2|             31|           1|           23|          19|\n",
      "| 4794377|  463092|          1|              1|               2|              8|           1|            1|          48|\n",
      "| 6726471|  414617|          0|              2|               0|              2|           1|           23|          40|\n",
      "| 5873495|  494034|          0|              2|               0|             12|           1|           23|          38|\n",
      "| 7658659|  521068|          0|              1|               1|             15|           1|            1|          11|\n",
      "| 8759798|  420863|          0|              1|               0|             25|           1|            0|          22|\n",
      "|10272948|  463254|          0|              1|               0|             57|           1|            0|          57|\n",
      "| 5245236|  521158|          1|              1|               1|             16|           1|            0|           4|\n",
      "+--------+--------+-----------+---------------+----------------+---------------+------------+-------------+------------+\n",
      "only showing top 20 rows\n",
      "\n"
     ]
    }
   ],
   "source": [
    "df.show()"
   ]
  },
  {
   "cell_type": "code",
   "execution_count": 4,
   "metadata": {},
   "outputs": [
    {
     "name": "stdout",
     "output_type": "stream",
     "text": [
      "+--------+--------+-----------+---------------+----------------+---------------+------------+-------------+------------+\n",
      "| user_id|notif_id|interaction|interaction_dow|interaction_hour|interaction_min|delivery_dow|delivery_hour|delivery_min|\n",
      "+--------+--------+-----------+---------------+----------------+---------------+------------+-------------+------------+\n",
      "| 4794377|  463092|          1|              1|               2|              8|           1|            1|          48|\n",
      "| 5245236|  521158|          1|              1|               1|             16|           1|            0|           4|\n",
      "| 5800304|  473092|          1|              2|               0|             26|           1|           23|          27|\n",
      "|  382518|  521597|          1|              1|               1|             59|           1|            1|          58|\n",
      "| 5503073|  465122|          1|              1|               1|              7|           1|            1|           6|\n",
      "| 1093731|  472884|          1|              2|               1|              1|           1|           23|          51|\n",
      "| 6244860|  473092|          1|              2|               5|             25|           1|           23|          25|\n",
      "| 1757815|  473092|          1|              2|               4|             40|           1|           23|          10|\n",
      "| 9604411|  473092|          1|              2|               7|             20|           1|           23|          29|\n",
      "| 1494381|  520062|          1|              1|               1|             29|           1|            1|          27|\n",
      "| 4186553|  461524|          1|              1|               0|             45|           1|            0|          40|\n",
      "| 9388659|  464670|          1|              1|               1|             31|           1|            1|          30|\n",
      "| 1209819|  465047|          1|              1|               0|             12|           1|            0|          12|\n",
      "| 3636314|  521902|          1|              1|               0|             53|           1|            0|          40|\n",
      "|  131064|  463944|          1|              1|               1|             13|           1|            1|          11|\n",
      "| 2214720|  473092|          1|              2|               4|             36|           1|           23|          15|\n",
      "| 8341006|  522255|          1|              1|               1|             54|           1|            0|          42|\n",
      "| 1869460|  517254|          1|              1|               1|             47|           1|            1|          25|\n",
      "|10550563|  466105|          1|              1|               1|             25|           1|            1|          24|\n",
      "| 2669954|  423455|          1|              1|               4|             38|           1|            1|          37|\n",
      "+--------+--------+-----------+---------------+----------------+---------------+------------+-------------+------------+\n",
      "only showing top 20 rows\n",
      "\n"
     ]
    }
   ],
   "source": [
    "df.filter(df['interaction']>0).show()\n"
   ]
  },
  {
   "cell_type": "code",
   "execution_count": 9,
   "metadata": {},
   "outputs": [
    {
     "name": "stdout",
     "output_type": "stream",
     "text": [
      "root\n",
      " |-- user_id: string (nullable = true)\n",
      " |-- notif_id: string (nullable = true)\n",
      " |-- interaction: string (nullable = true)\n",
      " |-- interaction_dow: string (nullable = true)\n",
      " |-- interaction_hour: string (nullable = true)\n",
      " |-- interaction_min: string (nullable = true)\n",
      " |-- delivery_dow: string (nullable = true)\n",
      " |-- delivery_hour: string (nullable = true)\n",
      " |-- delivery_min: string (nullable = true)\n",
      "\n",
      "None\n"
     ]
    }
   ],
   "source": [
    "print(df.printSchema())"
   ]
  },
  {
   "cell_type": "code",
   "execution_count": 10,
   "metadata": {},
   "outputs": [
    {
     "name": "stdout",
     "output_type": "stream",
     "text": [
      "[Row(user_id='654408', notif_id='468552', interaction='0', interaction_dow='1', interaction_hour='1', interaction_min='57', delivery_dow='1', delivery_hour='1', delivery_min='55'), Row(user_id='9272634', notif_id='517721', interaction='0', interaction_dow='1', interaction_hour='0', interaction_min='15', delivery_dow='1', delivery_hour='0', delivery_min='1'), Row(user_id='380089', notif_id='519842', interaction='0', interaction_dow='1', interaction_hour='0', interaction_min='21', delivery_dow='1', delivery_hour='0', delivery_min='20'), Row(user_id='2586969', notif_id='410941', interaction='0', interaction_dow='1', interaction_hour='2', interaction_min='12', delivery_dow='1', delivery_hour='1', delivery_min='57'), Row(user_id='491160', notif_id='463087', interaction='0', interaction_dow='1', interaction_hour='1', interaction_min='37', delivery_dow='1', delivery_hour='1', delivery_min='27')]\n"
     ]
    }
   ],
   "source": [
    "print(df.head(5))"
   ]
  },
  {
   "cell_type": "code",
   "execution_count": 11,
   "metadata": {},
   "outputs": [
    {
     "name": "stdout",
     "output_type": "stream",
     "text": [
      "98403133\n"
     ]
    }
   ],
   "source": [
    "print(df.count())"
   ]
  },
  {
   "cell_type": "code",
   "execution_count": 12,
   "metadata": {},
   "outputs": [
    {
     "name": "stdout",
     "output_type": "stream",
     "text": [
      "+-------+-----------------+------------------+-------------------+-----------------+------------------+------------------+------------------+------------------+------------------+\n",
      "|summary|          user_id|          notif_id|        interaction|  interaction_dow|  interaction_hour|   interaction_min|      delivery_dow|     delivery_hour|      delivery_min|\n",
      "+-------+-----------------+------------------+-------------------+-----------------+------------------+------------------+------------------+------------------+------------------+\n",
      "|  count|         98403133|          98403133|           98403133|         98403133|          98403133|          98403133|          98403133|          98403133|          98403133|\n",
      "|   mean|5556027.628483699|469413.31764555705|0.06169621652188655|3.742204386927396|13.636956386337822| 29.69880084000984|3.7360501214935913|13.455839114390798|29.480670335973958|\n",
      "| stddev|3274300.716310788|32474.539193937173|0.24060297998375296|2.042625442695733| 4.718317102998932|17.215782658019496| 2.049119355824648| 4.519205216408576| 16.93650362061394|\n",
      "|    min|               10|            406173|                  0|                1|                 0|                 0|                 1|                 0|                 0|\n",
      "|    max|          9999859|            525560|                  1|                7|                 9|                 9|                 7|                 9|                 9|\n",
      "+-------+-----------------+------------------+-------------------+-----------------+------------------+------------------+------------------+------------------+------------------+\n",
      "\n",
      "None\n"
     ]
    }
   ],
   "source": [
    "print(df.describe().show())"
   ]
  },
  {
   "cell_type": "code",
   "execution_count": 13,
   "metadata": {},
   "outputs": [
    {
     "name": "stdout",
     "output_type": "stream",
     "text": [
      "2589286\n"
     ]
    }
   ],
   "source": [
    "print(df.select('user_id').distinct().count())"
   ]
  },
  {
   "cell_type": "code",
   "execution_count": 3,
   "metadata": {},
   "outputs": [
    {
     "name": "stdout",
     "output_type": "stream",
     "text": [
      "2589286\n"
     ]
    }
   ],
   "source": []
  },
  {
   "cell_type": "code",
   "execution_count": 4,
   "metadata": {},
   "outputs": [],
   "source": [
    "df1=df.filter(df['interaction']>0)\n"
   ]
  },
  {
   "cell_type": "code",
   "execution_count": 8,
   "metadata": {},
   "outputs": [
    {
     "name": "stdout",
     "output_type": "stream",
     "text": [
      "6071101\n"
     ]
    }
   ],
   "source": [
    "print(df1.count())"
   ]
  },
  {
   "cell_type": "code",
   "execution_count": 9,
   "metadata": {},
   "outputs": [
    {
     "name": "stdout",
     "output_type": "stream",
     "text": [
      "1697006\n"
     ]
    }
   ],
   "source": [
    "print(df1.select('user_id').distinct().count())"
   ]
  },
  {
   "cell_type": "code",
   "execution_count": 15,
   "metadata": {},
   "outputs": [],
   "source": [
    "df2=df1.select('user_id','notif_id')"
   ]
  },
  {
   "cell_type": "code",
   "execution_count": 12,
   "metadata": {},
   "outputs": [
    {
     "name": "stdout",
     "output_type": "stream",
     "text": [
      "<pyspark.sql.group.GroupedData object at 0x1102578d0>\n"
     ]
    }
   ],
   "source": [
    "print(a)"
   ]
  },
  {
   "cell_type": "code",
   "execution_count": 14,
   "metadata": {},
   "outputs": [
    {
     "ename": "TypeError",
     "evalue": "'GroupedData' object is not subscriptable",
     "output_type": "error",
     "traceback": [
      "\u001b[0;31m---------------------------------------------------------------------------\u001b[0m",
      "\u001b[0;31mTypeError\u001b[0m                                 Traceback (most recent call last)",
      "\u001b[0;32m<ipython-input-14-cb84780db9ce>\u001b[0m in \u001b[0;36m<module>\u001b[0;34m\u001b[0m\n\u001b[0;32m----> 1\u001b[0;31m \u001b[0ma\u001b[0m\u001b[0;34m[\u001b[0m\u001b[0;34m'notif_id'\u001b[0m\u001b[0;34m]\u001b[0m\u001b[0;34m\u001b[0m\u001b[0;34m\u001b[0m\u001b[0m\n\u001b[0m",
      "\u001b[0;31mTypeError\u001b[0m: 'GroupedData' object is not subscriptable"
     ]
    }
   ],
   "source": [
    "a['notif_id']"
   ]
  },
  {
   "cell_type": "code",
   "execution_count": 18,
   "metadata": {},
   "outputs": [
    {
     "name": "stdout",
     "output_type": "stream",
     "text": [
      "1697006\n"
     ]
    }
   ],
   "source": [
    "print(df2.select('user_id').distinct().count())"
   ]
  },
  {
   "cell_type": "code",
   "execution_count": 20,
   "metadata": {},
   "outputs": [],
   "source": [
    "q=df2.groupby('user_id')"
   ]
  },
  {
   "cell_type": "code",
   "execution_count": 21,
   "metadata": {},
   "outputs": [
    {
     "ename": "AttributeError",
     "evalue": "'GroupedData' object has no attribute 'select'",
     "output_type": "error",
     "traceback": [
      "\u001b[0;31m---------------------------------------------------------------------------\u001b[0m",
      "\u001b[0;31mAttributeError\u001b[0m                            Traceback (most recent call last)",
      "\u001b[0;32m<ipython-input-21-3084abe0d78c>\u001b[0m in \u001b[0;36m<module>\u001b[0;34m\u001b[0m\n\u001b[0;32m----> 1\u001b[0;31m \u001b[0mq\u001b[0m\u001b[0;34m.\u001b[0m\u001b[0mselect\u001b[0m\u001b[0;34m(\u001b[0m\u001b[0;34m'notif_id'\u001b[0m\u001b[0;34m)\u001b[0m\u001b[0;34m\u001b[0m\u001b[0;34m\u001b[0m\u001b[0m\n\u001b[0m",
      "\u001b[0;31mAttributeError\u001b[0m: 'GroupedData' object has no attribute 'select'"
     ]
    }
   ],
   "source": [
    "print()"
   ]
  },
  {
   "cell_type": "code",
   "execution_count": 22,
   "metadata": {},
   "outputs": [],
   "source": [
    "import pandas as pd"
   ]
  },
  {
   "cell_type": "code",
   "execution_count": 23,
   "metadata": {},
   "outputs": [],
   "source": [
    "df2.toPandas().to_csv('mycsv.csv')\n"
   ]
  },
  {
   "cell_type": "code",
   "execution_count": null,
   "metadata": {},
   "outputs": [],
   "source": []
  }
 ],
 "metadata": {
  "kernelspec": {
   "display_name": "Python 3",
   "language": "python",
   "name": "python3"
  },
  "language_info": {
   "codemirror_mode": {
    "name": "ipython",
    "version": 3
   },
   "file_extension": ".py",
   "mimetype": "text/x-python",
   "name": "python",
   "nbconvert_exporter": "python",
   "pygments_lexer": "ipython3",
   "version": "3.6.8"
  }
 },
 "nbformat": 4,
 "nbformat_minor": 2
}
