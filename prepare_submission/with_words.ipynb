{
 "cells": [
  {
   "cell_type": "code",
   "execution_count": 32,
   "metadata": {},
   "outputs": [],
   "source": [
    "import pandas as pd\n",
    "import numpy as np\n",
    "import math\n",
    "from tqdm import tqdm"
   ]
  },
  {
   "cell_type": "code",
   "execution_count": 7,
   "metadata": {},
   "outputs": [],
   "source": [
    "word_rate_df = pd.read_csv('../data/wordAcceptRate.csv', header=None)\n",
    "notifs_df = pd.read_csv('/Users/vahid/data/recommender/notifs_corrected.csv')"
   ]
  },
  {
   "cell_type": "code",
   "execution_count": 33,
   "metadata": {},
   "outputs": [],
   "source": [
    "train_df = pd.read_csv('/Users/vahid/data/recommender/train_interactions.csv')"
   ]
  },
  {
   "cell_type": "code",
   "execution_count": 34,
   "metadata": {},
   "outputs": [
    {
     "data": {
      "text/plain": [
       "Index(['user_id', 'notif_id', 'interaction', 'interaction_dow',\n",
       "       'interaction_hour', 'interaction_min', 'delivery_dow', 'delivery_hour',\n",
       "       'delivery_min'],\n",
       "      dtype='object')"
      ]
     },
     "execution_count": 34,
     "metadata": {},
     "output_type": "execute_result"
    }
   ],
   "source": [
    "train_df.columnsf.columns"
   ]
  },
  {
   "cell_type": "code",
   "execution_count": 35,
   "metadata": {},
   "outputs": [],
   "source": [
    "train_df.drop(columns=['interaction_dow', 'interaction_hour', 'interaction_min', 'delivery_dow', 'delivery_hour',\n",
    "       'delivery_min'], inplace=True)"
   ]
  },
  {
   "cell_type": "code",
   "execution_count": 29,
   "metadata": {},
   "outputs": [],
   "source": [
    "word2notifs = {}\n",
    "for i in range(1999):\n",
    "    word2notifs[i+1] = set()\n",
    "for index, row in notifs_df.iterrows():\n",
    "    if type(row.text) == float and math.isnan(row.text):\n",
    "        continue\n",
    "    words = [int(w) for w in row.text.split(' ')]\n",
    "    for w in words:\n",
    "        word2notifs[w].add(row.notif_id)"
   ]
  },
  {
   "cell_type": "code",
   "execution_count": 36,
   "metadata": {},
   "outputs": [
    {
     "name": "stdout",
     "output_type": "stream",
     "text": [
      "working on  1\n",
      "(43783985, 3)\n"
     ]
    }
   ],
   "source": [
    "for index, row in tqdm(train_df.iterrows()):\n",
    "    "
   ]
  },
  {
   "cell_type": "code",
   "execution_count": null,
   "metadata": {},
   "outputs": [],
   "source": [
    "#impact of each word on each user!"
   ]
  }
 ],
 "metadata": {
  "kernelspec": {
   "display_name": "Python 3",
   "language": "python",
   "name": "python3"
  },
  "language_info": {
   "codemirror_mode": {
    "name": "ipython",
    "version": 3
   },
   "file_extension": ".py",
   "mimetype": "text/x-python",
   "name": "python",
   "nbconvert_exporter": "python",
   "pygments_lexer": "ipython3",
   "version": "3.6.7"
  }
 },
 "nbformat": 4,
 "nbformat_minor": 2
}
