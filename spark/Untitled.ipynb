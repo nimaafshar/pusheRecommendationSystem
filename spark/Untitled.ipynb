{
 "cells": [
  {
   "cell_type": "code",
   "execution_count": 8,
   "metadata": {},
   "outputs": [],
   "source": [
    "import pyspark.sql.functions as fn"
   ]
  },
  {
   "cell_type": "code",
   "execution_count": 2,
   "metadata": {},
   "outputs": [],
   "source": [
    "df = spark.read.format(\"csv\").option(\"header\", \"true\").load('/Users/vahid/data/recommender/train_interactions.csv')"
   ]
  },
  {
   "cell_type": "code",
   "execution_count": 3,
   "metadata": {},
   "outputs": [
    {
     "data": {
      "text/plain": [
       "pyspark.sql.dataframe.DataFrame"
      ]
     },
     "execution_count": 3,
     "metadata": {},
     "output_type": "execute_result"
    }
   ],
   "source": [
    "type(df)"
   ]
  },
  {
   "cell_type": "code",
   "execution_count": 9,
   "metadata": {},
   "outputs": [],
   "source": [
    "gr = df.groupBy(['user_id']).agg(fn.count('notif_id').alias('n_notifs'))"
   ]
  },
  {
   "cell_type": "code",
   "execution_count": 11,
   "metadata": {},
   "outputs": [
    {
     "data": {
      "text/plain": [
       "DataFrame[user_id: string, n_notifs: bigint]"
      ]
     },
     "execution_count": 11,
     "metadata": {},
     "output_type": "execute_result"
    }
   ],
   "source": [
    "gr.cache()"
   ]
  },
  {
   "cell_type": "code",
   "execution_count": 13,
   "metadata": {},
   "outputs": [
    {
     "data": {
      "text/plain": [
       "2589286"
      ]
     },
     "execution_count": 13,
     "metadata": {},
     "output_type": "execute_result"
    }
   ],
   "source": [
    "gr.count()"
   ]
  },
  {
   "cell_type": "code",
   "execution_count": 14,
   "metadata": {},
   "outputs": [],
   "source": [
    "df_test = spark.read.format(\"csv\").option(\"header\", \"true\").load('/Users/vahid/data/recommender/test.csv.gz')"
   ]
  },
  {
   "cell_type": "code",
   "execution_count": 17,
   "metadata": {},
   "outputs": [],
   "source": [
    "notfis_in_test = df_test.select('notif_id').distinct().toPandas()"
   ]
  },
  {
   "cell_type": "code",
   "execution_count": 19,
   "metadata": {},
   "outputs": [],
   "source": [
    "notifs_in_train = df.select('notif_id').distinct().toPandas()"
   ]
  },
  {
   "cell_type": "code",
   "execution_count": 20,
   "metadata": {},
   "outputs": [
    {
     "data": {
      "text/html": [
       "<div>\n",
       "<style scoped>\n",
       "    .dataframe tbody tr th:only-of-type {\n",
       "        vertical-align: middle;\n",
       "    }\n",
       "\n",
       "    .dataframe tbody tr th {\n",
       "        vertical-align: top;\n",
       "    }\n",
       "\n",
       "    .dataframe thead th {\n",
       "        text-align: right;\n",
       "    }\n",
       "</style>\n",
       "<table border=\"1\" class=\"dataframe\">\n",
       "  <thead>\n",
       "    <tr style=\"text-align: right;\">\n",
       "      <th></th>\n",
       "      <th>notif_id</th>\n",
       "    </tr>\n",
       "  </thead>\n",
       "  <tbody>\n",
       "    <tr>\n",
       "      <th>0</th>\n",
       "      <td>552756</td>\n",
       "    </tr>\n",
       "    <tr>\n",
       "      <th>1</th>\n",
       "      <td>527202</td>\n",
       "    </tr>\n",
       "    <tr>\n",
       "      <th>2</th>\n",
       "      <td>525880</td>\n",
       "    </tr>\n",
       "    <tr>\n",
       "      <th>3</th>\n",
       "      <td>527182</td>\n",
       "    </tr>\n",
       "    <tr>\n",
       "      <th>4</th>\n",
       "      <td>528385</td>\n",
       "    </tr>\n",
       "  </tbody>\n",
       "</table>\n",
       "</div>"
      ],
      "text/plain": [
       "  notif_id\n",
       "0   552756\n",
       "1   527202\n",
       "2   525880\n",
       "3   527182\n",
       "4   528385"
      ]
     },
     "execution_count": 20,
     "metadata": {},
     "output_type": "execute_result"
    }
   ],
   "source": [
    "notfis_in_test.head()"
   ]
  },
  {
   "cell_type": "code",
   "execution_count": 27,
   "metadata": {},
   "outputs": [
    {
     "data": {
      "text/plain": [
       "array([], dtype=object)"
      ]
     },
     "execution_count": 27,
     "metadata": {},
     "output_type": "execute_result"
    }
   ],
   "source": [
    "import numpy as np\n",
    "np.intersect1d(notfis_in_test.values[0], notifs_in_train.values[0])"
   ]
  },
  {
   "cell_type": "code",
   "execution_count": 31,
   "metadata": {},
   "outputs": [],
   "source": [
    "train = set(notfis_in_test.notif_id.values)\n",
    "test = set(notifs_in_train.notif_id.values)"
   ]
  },
  {
   "cell_type": "code",
   "execution_count": 32,
   "metadata": {},
   "outputs": [
    {
     "data": {
      "text/plain": [
       "set()"
      ]
     },
     "execution_count": 32,
     "metadata": {},
     "output_type": "execute_result"
    }
   ],
   "source": [
    "train.intersection(test)"
   ]
  },
  {
   "cell_type": "code",
   "execution_count": 33,
   "metadata": {},
   "outputs": [],
   "source": [
    "import pandas as pd"
   ]
  },
  {
   "cell_type": "code",
   "execution_count": 56,
   "metadata": {},
   "outputs": [
    {
     "data": {
      "text/html": [
       "<div>\n",
       "<style scoped>\n",
       "    .dataframe tbody tr th:only-of-type {\n",
       "        vertical-align: middle;\n",
       "    }\n",
       "\n",
       "    .dataframe tbody tr th {\n",
       "        vertical-align: top;\n",
       "    }\n",
       "\n",
       "    .dataframe thead th {\n",
       "        text-align: right;\n",
       "    }\n",
       "</style>\n",
       "<table border=\"1\" class=\"dataframe\">\n",
       "  <thead>\n",
       "    <tr style=\"text-align: right;\">\n",
       "      <th></th>\n",
       "      <th>notif_id</th>\n",
       "      <th>F1</th>\n",
       "      <th>F2</th>\n",
       "      <th>F3</th>\n",
       "      <th>F4</th>\n",
       "      <th>F5</th>\n",
       "      <th>F6</th>\n",
       "      <th>F7</th>\n",
       "      <th>F8</th>\n",
       "      <th>F9</th>\n",
       "      <th>...</th>\n",
       "      <th>F191</th>\n",
       "      <th>F192</th>\n",
       "      <th>F193</th>\n",
       "      <th>F194</th>\n",
       "      <th>F195</th>\n",
       "      <th>F196</th>\n",
       "      <th>F197</th>\n",
       "      <th>F198</th>\n",
       "      <th>F199</th>\n",
       "      <th>F200</th>\n",
       "    </tr>\n",
       "  </thead>\n",
       "  <tbody>\n",
       "    <tr>\n",
       "      <th>0</th>\n",
       "      <td>447519</td>\n",
       "      <td>-4.966424</td>\n",
       "      <td>11.489478</td>\n",
       "      <td>4.418155</td>\n",
       "      <td>-8.264528</td>\n",
       "      <td>0.483450</td>\n",
       "      <td>-8.726120</td>\n",
       "      <td>-9.982015</td>\n",
       "      <td>-2.117726</td>\n",
       "      <td>-1.253858</td>\n",
       "      <td>...</td>\n",
       "      <td>-0.165652</td>\n",
       "      <td>0.236250</td>\n",
       "      <td>-0.536746</td>\n",
       "      <td>0.074008</td>\n",
       "      <td>-0.198941</td>\n",
       "      <td>-0.087212</td>\n",
       "      <td>0.135536</td>\n",
       "      <td>-0.169727</td>\n",
       "      <td>0.010327</td>\n",
       "      <td>-0.124046</td>\n",
       "    </tr>\n",
       "    <tr>\n",
       "      <th>1</th>\n",
       "      <td>441851</td>\n",
       "      <td>1.695928</td>\n",
       "      <td>-9.561707</td>\n",
       "      <td>-1.148592</td>\n",
       "      <td>-7.545650</td>\n",
       "      <td>-8.476706</td>\n",
       "      <td>5.449286</td>\n",
       "      <td>3.271107</td>\n",
       "      <td>3.806645</td>\n",
       "      <td>1.922784</td>\n",
       "      <td>...</td>\n",
       "      <td>-0.284256</td>\n",
       "      <td>-0.293422</td>\n",
       "      <td>-0.112613</td>\n",
       "      <td>-0.665172</td>\n",
       "      <td>-0.145205</td>\n",
       "      <td>-0.445586</td>\n",
       "      <td>-0.055238</td>\n",
       "      <td>0.116369</td>\n",
       "      <td>-0.637553</td>\n",
       "      <td>-0.056821</td>\n",
       "    </tr>\n",
       "    <tr>\n",
       "      <th>2</th>\n",
       "      <td>483576</td>\n",
       "      <td>-3.164493</td>\n",
       "      <td>4.960090</td>\n",
       "      <td>-3.474825</td>\n",
       "      <td>-2.931745</td>\n",
       "      <td>1.532727</td>\n",
       "      <td>-2.396772</td>\n",
       "      <td>10.594930</td>\n",
       "      <td>1.161292</td>\n",
       "      <td>0.133073</td>\n",
       "      <td>...</td>\n",
       "      <td>0.108387</td>\n",
       "      <td>-0.069454</td>\n",
       "      <td>0.136111</td>\n",
       "      <td>0.115855</td>\n",
       "      <td>0.003308</td>\n",
       "      <td>0.032245</td>\n",
       "      <td>0.045250</td>\n",
       "      <td>-0.091309</td>\n",
       "      <td>-0.008784</td>\n",
       "      <td>0.300490</td>\n",
       "    </tr>\n",
       "    <tr>\n",
       "      <th>3</th>\n",
       "      <td>564340</td>\n",
       "      <td>17.057026</td>\n",
       "      <td>-1.445091</td>\n",
       "      <td>-15.867423</td>\n",
       "      <td>2.147889</td>\n",
       "      <td>-7.040503</td>\n",
       "      <td>1.373868</td>\n",
       "      <td>-4.365830</td>\n",
       "      <td>0.633132</td>\n",
       "      <td>-3.303665</td>\n",
       "      <td>...</td>\n",
       "      <td>-0.168556</td>\n",
       "      <td>0.110151</td>\n",
       "      <td>-0.164698</td>\n",
       "      <td>0.242161</td>\n",
       "      <td>0.055488</td>\n",
       "      <td>0.050694</td>\n",
       "      <td>0.190996</td>\n",
       "      <td>-0.144006</td>\n",
       "      <td>0.439409</td>\n",
       "      <td>0.108422</td>\n",
       "    </tr>\n",
       "    <tr>\n",
       "      <th>4</th>\n",
       "      <td>549636</td>\n",
       "      <td>-10.604857</td>\n",
       "      <td>4.211807</td>\n",
       "      <td>-3.017962</td>\n",
       "      <td>-3.874277</td>\n",
       "      <td>-4.608191</td>\n",
       "      <td>-5.410021</td>\n",
       "      <td>-5.191367</td>\n",
       "      <td>1.042329</td>\n",
       "      <td>-4.308573</td>\n",
       "      <td>...</td>\n",
       "      <td>0.413350</td>\n",
       "      <td>-0.187556</td>\n",
       "      <td>-0.132629</td>\n",
       "      <td>0.991428</td>\n",
       "      <td>1.060254</td>\n",
       "      <td>-0.262702</td>\n",
       "      <td>-0.447537</td>\n",
       "      <td>0.092006</td>\n",
       "      <td>0.370397</td>\n",
       "      <td>0.114488</td>\n",
       "    </tr>\n",
       "  </tbody>\n",
       "</table>\n",
       "<p>5 rows × 201 columns</p>\n",
       "</div>"
      ],
      "text/plain": [
       "   notif_id         F1         F2         F3        F4        F5        F6  \\\n",
       "0    447519  -4.966424  11.489478   4.418155 -8.264528  0.483450 -8.726120   \n",
       "1    441851   1.695928  -9.561707  -1.148592 -7.545650 -8.476706  5.449286   \n",
       "2    483576  -3.164493   4.960090  -3.474825 -2.931745  1.532727 -2.396772   \n",
       "3    564340  17.057026  -1.445091 -15.867423  2.147889 -7.040503  1.373868   \n",
       "4    549636 -10.604857   4.211807  -3.017962 -3.874277 -4.608191 -5.410021   \n",
       "\n",
       "          F7        F8        F9    ...         F191      F192      F193  \\\n",
       "0  -9.982015 -2.117726 -1.253858    ...    -0.165652  0.236250 -0.536746   \n",
       "1   3.271107  3.806645  1.922784    ...    -0.284256 -0.293422 -0.112613   \n",
       "2  10.594930  1.161292  0.133073    ...     0.108387 -0.069454  0.136111   \n",
       "3  -4.365830  0.633132 -3.303665    ...    -0.168556  0.110151 -0.164698   \n",
       "4  -5.191367  1.042329 -4.308573    ...     0.413350 -0.187556 -0.132629   \n",
       "\n",
       "       F194      F195      F196      F197      F198      F199      F200  \n",
       "0  0.074008 -0.198941 -0.087212  0.135536 -0.169727  0.010327 -0.124046  \n",
       "1 -0.665172 -0.145205 -0.445586 -0.055238  0.116369 -0.637553 -0.056821  \n",
       "2  0.115855  0.003308  0.032245  0.045250 -0.091309 -0.008784  0.300490  \n",
       "3  0.242161  0.055488  0.050694  0.190996 -0.144006  0.439409  0.108422  \n",
       "4  0.991428  1.060254 -0.262702 -0.447537  0.092006  0.370397  0.114488  \n",
       "\n",
       "[5 rows x 201 columns]"
      ]
     },
     "execution_count": 56,
     "metadata": {},
     "output_type": "execute_result"
    }
   ],
   "source": [
    "icons_df = pd.read_csv('/Users/vahid/data/recommender/icons.csv')\n",
    "icons_df.head()"
   ]
  },
  {
   "cell_type": "code",
   "execution_count": 67,
   "metadata": {},
   "outputs": [],
   "source": [
    "def unique_rows(a):\n",
    "    a = np.ascontiguousarray(a)\n",
    "    unique_a = np.unique(a.view([('', a.dtype)]*a.shape[1]))\n",
    "    return unique_a.view(a.dtype).reshape((unique_a.shape[0], a.shape[1]))"
   ]
  },
  {
   "cell_type": "code",
   "execution_count": 46,
   "metadata": {},
   "outputs": [
    {
     "data": {
      "text/plain": [
       "(6279, 201)"
      ]
     },
     "execution_count": 46,
     "metadata": {},
     "output_type": "execute_result"
    }
   ],
   "source": [
    "icons_df = icons_df.drop_duplicates()\n",
    "icons_df.shape"
   ]
  },
  {
   "cell_type": "code",
   "execution_count": 85,
   "metadata": {},
   "outputs": [],
   "source": [
    "from matplotlib import colors as mcolors\n",
    "\n",
    "colors = dict(mcolors.BASE_COLORS, **mcolors.CSS4_COLORS)"
   ]
  },
  {
   "cell_type": "code",
   "execution_count": 47,
   "metadata": {},
   "outputs": [],
   "source": [
    "from sklearn.decomposition import PCA"
   ]
  },
  {
   "cell_type": "code",
   "execution_count": 69,
   "metadata": {},
   "outputs": [
    {
     "data": {
      "text/plain": [
       "(6279, 2)"
      ]
     },
     "execution_count": 69,
     "metadata": {},
     "output_type": "execute_result"
    }
   ],
   "source": [
    "pca = PCA(n_components=2)\n",
    "y = pca.fit_transform(icons_df.values)\n",
    "y.shape"
   ]
  },
  {
   "cell_type": "code",
   "execution_count": 73,
   "metadata": {},
   "outputs": [
    {
     "data": {
      "text/plain": [
       "<matplotlib.collections.PathCollection at 0x119d3e9b0>"
      ]
     },
     "execution_count": 73,
     "metadata": {},
     "output_type": "execute_result"
    },
    {
     "data": {
      "image/png": "[encoded data removed]",
      "text/plain": [
       "<Figure size 432x288 with 1 Axes>"
      ]
     },
     "metadata": {},
     "output_type": "display_data"
    }
   ],
   "source": [
    "import matplotlib.pyplot as plt\n",
    "plt.scatter(y[:,0],y[:,1],s=2)"
   ]
  },
  {
   "cell_type": "code",
   "execution_count": 97,
   "metadata": {},
   "outputs": [
    {
     "data": {
      "text/plain": [
       "(6279, 2)"
      ]
     },
     "execution_count": 97,
     "metadata": {},
     "output_type": "execute_result"
    }
   ],
   "source": [
    "# icons_df.set_index('notif_id', inplace=True)\n",
    "# print(icons_df.shape)\n",
    "from sklearn.manifold import TSNE\n",
    "y = TSNE(n_components=2, n_iter_without_progress=10000).fit_transform(icons_df.values)\n",
    "y.shape"
   ]
  },
  {
   "cell_type": "code",
   "execution_count": 95,
   "metadata": {},
   "outputs": [
    {
     "data": {
      "text/plain": [
       "<matplotlib.collections.PathCollection at 0x123a3dbe0>"
      ]
     },
     "execution_count": 95,
     "metadata": {},
     "output_type": "execute_result"
    },
    {
     "data": {
      "image/png": "[encoded data removed]",
      "text/plain": [
       "<Figure size 432x288 with 1 Axes>"
      ]
     },
     "metadata": {},
     "output_type": "display_data"
    }
   ],
   "source": [
    "plt.scatter(y[:,0],y[:,1], s=2)"
   ]
  },
  {
   "cell_type": "code",
   "execution_count": 98,
   "metadata": {},
   "outputs": [
    {
     "data": {
      "text/plain": [
       "<matplotlib.collections.PathCollection at 0x123a8cc50>"
      ]
     },
     "execution_count": 98,
     "metadata": {},
     "output_type": "execute_result"
    },
    {
     "data": {
      "image/png": "[encoded data removed]",
      "text/plain": [
       "<Figure size 432x288 with 1 Axes>"
      ]
     },
     "metadata": {},
     "output_type": "display_data"
    }
   ],
   "source": [
    "plt.scatter(y[:,0],y[:,1], s=2)"
   ]
  },
  {
   "cell_type": "code",
   "execution_count": 86,
   "metadata": {},
   "outputs": [
    {
     "data": {
      "text/plain": [
       "TSNE(angle=0.5, early_exaggeration=12.0, init='random', learning_rate=200.0,\n",
       "   method='barnes_hut', metric='euclidean', min_grad_norm=1e-07,\n",
       "   n_components=2, n_iter=1000, n_iter_without_progress=300,\n",
       "   perplexity=30.0, random_state=None, verbose=0)"
      ]
     },
     "execution_count": 86,
     "metadata": {},
     "output_type": "execute_result"
    }
   ],
   "source": [
    "TSNE(n_components=2)"
   ]
  },
  {
   "cell_type": "code",
   "execution_count": 87,
   "metadata": {},
   "outputs": [],
   "source": [
    "from sklearn.cluster import DBSCAN\n",
    "clustering = DBSCAN(eps=3, min_samples=2).fit(y)"
   ]
  },
  {
   "cell_type": "code",
   "execution_count": 84,
   "metadata": {},
   "outputs": [
    {
     "data": {
      "image/png": "[encoded data removed]",
      "text/plain": [
       "<Figure size 432x288 with 1 Axes>"
      ]
     },
     "metadata": {},
     "output_type": "display_data"
    }
   ],
   "source": [
    "for idx,_y in enumerate(y):\n",
    "    plt.scatter(_y[0], _y[1], s=2, color='red')"
   ]
  },
  {
   "cell_type": "code",
   "execution_count": 90,
   "metadata": {},
   "outputs": [
    {
     "data": {
      "text/plain": [
       "(6279, 201)"
      ]
     },
     "execution_count": 90,
     "metadata": {},
     "output_type": "execute_result"
    }
   ],
   "source": [
    "icons_df.values.shape"
   ]
  },
  {
   "cell_type": "code",
   "execution_count": null,
   "metadata": {},
   "outputs": [],
   "source": [
    "df_tra"
   ]
  }
 ],
 "metadata": {
  "kernelspec": {
   "display_name": "Python 3",
   "language": "python",
   "name": "python3"
  },
  "language_info": {
   "codemirror_mode": {
    "name": "ipython",
    "version": 3
   },
   "file_extension": ".py",
   "mimetype": "text/x-python",
   "name": "python",
   "nbconvert_exporter": "python",
   "pygments_lexer": "ipython3",
   "version": "3.6.7"
  }
 },
 "nbformat": 4,
 "nbformat_minor": 2
}
