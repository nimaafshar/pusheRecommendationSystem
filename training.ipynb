{
 "cells": [
  {
   "cell_type": "code",
   "execution_count": 2,
   "metadata": {
    "collapsed": false
   },
   "outputs": [
    {
     "name": "stderr",
     "output_type": "stream",
     "text": [
      "Using TensorFlow backend.\n"
     ]
    }
   ],
   "source": [
    "import pandas as pd\n",
    "import numpy as np\n",
    "import time\n",
    "import multiprocessing as mp\n",
    "import keras"
   ]
  },
  {
   "cell_type": "markdown",
   "metadata": {},
   "source": [
    "# Methods"
   ]
  },
  {
   "cell_type": "code",
   "execution_count": 19,
   "metadata": {
    "collapsed": true
   },
   "outputs": [],
   "source": [
    "# Map\n",
    "## User ID\n",
    "def map_user_id( x ):\n",
    "    return( user_id_dict[x] )\n",
    "## Notif ID\n",
    "def map_notif_id( x ):\n",
    "    return( notif_id_dict[x] )\n",
    "\n",
    "# Parallelize\n",
    "def parallelize( _func, _iterable, n_proc = 4 ):\n",
    "    mp_pool = mp.Pool( n_proc )\n",
    "    result = mp_pool.map( _func, _iterable )\n",
    "    mp_pool.close()\n",
    "    mp_pool.terminate()\n",
    "    return( result )"
   ]
  },
  {
   "cell_type": "markdown",
   "metadata": {},
   "source": [
    "# Load Data"
   ]
  },
  {
   "cell_type": "code",
   "execution_count": 3,
   "metadata": {
    "collapsed": false
   },
   "outputs": [
    {
     "name": "stdout",
     "output_type": "stream",
     "text": [
      "Train Interactions: 40.24423098564148 s\n"
     ]
    }
   ],
   "source": [
    "_start = time.time()\n",
    "user_notif_id = pd.read_csv(\n",
    "    'train_interactions.csv',\n",
    "    usecols=[0,1],\n",
    "    dtype={\n",
    "        'user_id':np.uint32,\n",
    "        'notif_id':np.uint32,\n",
    "    })\n",
    "_end = time.time()\n",
    "duration = _end - _start\n",
    "print('Train Interactions: {} s'.format( duration ))"
   ]
  },
  {
   "cell_type": "code",
   "execution_count": 4,
   "metadata": {
    "collapsed": false
   },
   "outputs": [
    {
     "name": "stdout",
     "output_type": "stream",
     "text": [
      "Targets: 25.84952712059021 s\n"
     ]
    }
   ],
   "source": [
    "_start = time.time()\n",
    "targets = pd.read_csv('train_interactions.csv',usecols=[2],dtype={'interaction':np.bool})\n",
    "_end = time.time()\n",
    "duration = _end - _start\n",
    "print('Targets: {} s'.format( duration ))"
   ]
  },
  {
   "cell_type": "markdown",
   "metadata": {},
   "source": [
    "# Map IDs"
   ]
  },
  {
   "cell_type": "markdown",
   "metadata": {},
   "source": [
    "## User IDs"
   ]
  },
  {
   "cell_type": "code",
   "execution_count": 5,
   "metadata": {
    "collapsed": false
   },
   "outputs": [
    {
     "name": "stdout",
     "output_type": "stream",
     "text": [
      "Auto Shit fuck! 0.6128528118133545 s\n"
     ]
    }
   ],
   "source": [
    "_start = time.time()\n",
    "user_ids = pd.read_csv( 'autoencode_user_id.csv', header=None, dtype={0:np.uint32} )\n",
    "_end   = time.time()\n",
    "duration = _end - _start\n",
    "print('Auto Shit fuck! {} s'.format( duration ))"
   ]
  },
  {
   "cell_type": "code",
   "execution_count": 6,
   "metadata": {
    "collapsed": false
   },
   "outputs": [],
   "source": [
    "user_id_dict = dict(zip( user_ids[0], user_ids.index ))"
   ]
  },
  {
   "cell_type": "code",
   "execution_count": 7,
   "metadata": {
    "collapsed": false
   },
   "outputs": [
    {
     "name": "stdout",
     "output_type": "stream",
     "text": [
      "Map User IDs: 443.5064949989319 s\n"
     ]
    }
   ],
   "source": [
    "_start = time.time()\n",
    "user_notif_id['user_id_row'] = parallelize( map_user_id, user_notif_id.user_id )\n",
    "_end   = time.time()\n",
    "duration = _end - _start\n",
    "print('Map User IDs: {} s'.format( duration ))"
   ]
  },
  {
   "cell_type": "markdown",
   "metadata": {},
   "source": [
    "## Notif IDs"
   ]
  },
  {
   "cell_type": "code",
   "execution_count": 17,
   "metadata": {
    "collapsed": false
   },
   "outputs": [],
   "source": [
    "notif_ids = pd.read_csv(\n",
    "    'notifs_corrected.csv',\n",
    "    usecols=[0,1,2,4],\n",
    "    dtype={\n",
    "        'notif_id': np.uint32,\n",
    "        'day_of_week': np.uint8,\n",
    "        'hour': np.uint8,\n",
    "        'category': np.uint8\n",
    "    }\n",
    ")\n",
    "notif_id_dict = dict(zip( notif_ids.notif_id, notif_ids.index ))"
   ]
  },
  {
   "cell_type": "code",
   "execution_count": 20,
   "metadata": {
    "collapsed": false
   },
   "outputs": [
    {
     "name": "stdout",
     "output_type": "stream",
     "text": [
      "Map Notif IDs: 370.8269546031952 s\n"
     ]
    }
   ],
   "source": [
    "_start = time.time()\n",
    "user_notif_id['notif_id_row'] = parallelize( map_notif_id, user_notif_id.notif_id )\n",
    "_end   = time.time()\n",
    "duration = _end - _start\n",
    "print('Map Notif IDs: {} s'.format( duration ))"
   ]
  },
  {
   "cell_type": "markdown",
   "metadata": {},
   "source": [
    "# Store"
   ]
  },
  {
   "cell_type": "code",
   "execution_count": 22,
   "metadata": {
    "collapsed": false
   },
   "outputs": [],
   "source": [
    "user_notif_id[['user_id_row','notif_id_row']].to_csv('user_notif_row_train.csv',index=False)"
   ]
  },
  {
   "cell_type": "code",
   "execution_count": 26,
   "metadata": {
    "collapsed": false
   },
   "outputs": [],
   "source": [
    "np.savez_compressed( 'targets_train.npz', y = targets.values[:,0] )"
   ]
  },
  {
   "cell_type": "code",
   "execution_count": 27,
   "metadata": {
    "collapsed": true
   },
   "outputs": [],
   "source": [
    "np.savez_compressed( 'train.npz',\n",
    "                    user_id_rows = user_notif_id.user_id_row.values,\n",
    "                    notif_id_rows = user_notif_id.notif_id_row.values,\n",
    "                    targets = targets.values[:,0]\n",
    "                   )"
   ]
  },
  {
   "cell_type": "markdown",
   "metadata": {},
   "source": [
    "# Data Generator"
   ]
  },
  {
   "cell_type": "code",
   "execution_count": null,
   "metadata": {
    "collapsed": true
   },
   "outputs": [],
   "source": []
  },
  {
   "cell_type": "code",
   "execution_count": null,
   "metadata": {
    "collapsed": true
   },
   "outputs": [],
   "source": []
  },
  {
   "cell_type": "markdown",
   "metadata": {
    "collapsed": true
   },
   "source": [
    "# OnehotEncoding the notif features"
   ]
  },
  {
   "cell_type": "code",
   "execution_count": 14,
   "metadata": {
    "collapsed": true
   },
   "outputs": [],
   "source": [
    "notifs_df = pd.read_csv(\"notifs_corrected.csv\",usecols=[0,1,2,4])"
   ]
  },
  {
   "cell_type": "code",
   "execution_count": 37,
   "metadata": {
    "collapsed": false
   },
   "outputs": [],
   "source": [
    "notifs_cat = notifs_df.drop(['notif_id'],axis = 1)"
   ]
  },
  {
   "cell_type": "code",
   "execution_count": 39,
   "metadata": {
    "collapsed": true
   },
   "outputs": [],
   "source": [
    "from sklearn.preprocessing import OneHotEncoder\n",
    "enc = OneHotEncoder()"
   ]
  },
  {
   "cell_type": "code",
   "execution_count": 41,
   "metadata": {
    "collapsed": false
   },
   "outputs": [],
   "source": [
    "notif_encodede_features = enc.fit_transform(notifs_cat)"
   ]
  },
  {
   "cell_type": "code",
   "execution_count": 59,
   "metadata": {
    "collapsed": false
   },
   "outputs": [
    {
     "data": {
      "text/plain": [
       "(6347, 37)"
      ]
     },
     "execution_count": 59,
     "metadata": {},
     "output_type": "execute_result"
    }
   ],
   "source": [
    "notif_encodede_features.todense().shape"
   ]
  },
  {
   "cell_type": "code",
   "execution_count": 56,
   "metadata": {
    "collapsed": false
   },
   "outputs": [],
   "source": [
    "notif_encoded = notif_encodede_features.todense()"
   ]
  },
  {
   "cell_type": "code",
   "execution_count": 60,
   "metadata": {
    "collapsed": false
   },
   "outputs": [
    {
     "data": {
      "text/plain": [
       "(6347, 37)"
      ]
     },
     "execution_count": 60,
     "metadata": {},
     "output_type": "execute_result"
    }
   ],
   "source": [
    "notif_encoded.shape"
   ]
  },
  {
   "cell_type": "code",
   "execution_count": 61,
   "metadata": {
    "collapsed": false
   },
   "outputs": [],
   "source": [
    "np.savez_compressed( \"notifs_encoded.npz\", X = notif_encoded )"
   ]
  },
  {
   "cell_type": "markdown",
   "metadata": {
    "collapsed": true
   },
   "source": [
    "# Builiding a Model"
   ]
  },
  {
   "cell_type": "markdown",
   "metadata": {},
   "source": [
    "# Load Data"
   ]
  },
  {
   "cell_type": "code",
   "execution_count": null,
   "metadata": {
    "collapsed": true
   },
   "outputs": [],
   "source": [
    "X_user_sparse = np.load('users_cat_autoencoded.npz')['X']\n",
    "X_user_dense = np.load('users_numeric_encoded.npz')['X']\n",
    "X_notif = notif_encodede_features.todense()\n",
    "# Indices\n",
    "_indices_file = np.load('train.npz')\n",
    "indices_train_user = _indices_file['user_id_rows']\n",
    "indices_train_notif = _indices_file['notif_id_rows']\n",
    "targets = _indices_file['targets']\n",
    "# Parameters\n",
    "n_features = X_user_sparse.shape[1] + X_user_dense.shape[1] + X_notif.shape[1]\n",
    "n_observations = len(indices_train_user)\n",
    "weights_alpha = np.mean( targets )"
   ]
  },
  {
   "cell_type": "code",
   "execution_count": 13,
   "metadata": {
    "collapsed": false
   },
   "outputs": [],
   "source": [
    "# Encoder Data Generator\n",
    "class TrainDataGenerator(keras.utils.Sequence):\n",
    "    'Generates data for Keras'\n",
    "    def __init__(\n",
    "            self,\n",
    "            indices_train_user,\n",
    "            indices_train_notif,\n",
    "            targets,\n",
    "            X_user_dense, X_user_sparse, X_notif,\n",
    "            batch_size = 32,\n",
    "            shuffle = True,\n",
    "            weights_alpha = 0.5\n",
    "        ):\n",
    "        \"\"\"Initialization\n",
    "        \"\"\"\n",
    "        # Train Parameters\n",
    "        self.indices_train_user, self.indices_train_notif = indices_train_user, indices_train_notif\n",
    "        self.X_user_dense, self.X_user_sparse, self.X_notif = X_user_dense, X_user_sparse, X_notif\n",
    "        self.targets = targets\n",
    "        # Generation Parameters\n",
    "        self.batch_size = batch_size\n",
    "        self.shuffle = shuffle\n",
    "        self.n = len(indices_train_user)\n",
    "        self.indices = np.arange( len(self.indices_train_user) )\n",
    "        # Shuffle\n",
    "        self.on_epoch_end()\n",
    "    def __len__(self):\n",
    "        'Denotes the number of batches per epoch'\n",
    "        return self.n // self.batch_size\n",
    "\n",
    "    def __getitem__(self, index):\n",
    "        'Generate one batch of data'\n",
    "        # Generate indices of the batch\n",
    "        indices = self.indices[ index*self.batch_size : (index+1)*self.batch_size ]\n",
    "        # X\n",
    "        ## Indices\n",
    "        indices_user = self.indices_train_user[ indices ]\n",
    "        indices_notif = self.indices_train_notif[ indices ]\n",
    "        ## Horizontal Stack\n",
    "        _X = np.hstack([\n",
    "            self.X_user_dense[indices_user],\n",
    "            self.X_user_sparse[indices_user].todense(),\n",
    "            self.X_notif[ indices_notif ]\n",
    "        ], dtype = np.float)\n",
    "        # _y\n",
    "        _y = self.targets[ indices ]\n",
    "        # weights\n",
    "        weights = _y * ( 1 - 2*weights_alpha ) + weights_alpha\n",
    "        return _X, _y, weights\n",
    "\n",
    "    def on_epoch_end(self):\n",
    "        'Updates indices after each epoch'\n",
    "        if self.shuffle :\n",
    "            np.random.shuffle(self.indices)"
   ]
  },
  {
   "cell_type": "code",
   "execution_count": 10,
   "metadata": {
    "collapsed": true
   },
   "outputs": [],
   "source": [
    "from sklearn.model_selection import train_test_split\n",
    "\n",
    "indices_train, indices_validation = train_test_split(\n",
    "    np.arange(len(indices_train_user)),\n",
    "    test_size = 0.2,\n",
    "    stratify = targets\n",
    ")"
   ]
  },
  {
   "cell_type": "code",
   "execution_count": null,
   "metadata": {
    "collapsed": true
   },
   "outputs": [],
   "source": [
    "# Train Generator\n",
    "generator_train = TrainDataGenerator(\n",
    "    indices_train_user[indices_train],\n",
    "    indices_train_notif[indices_train],\n",
    "    targets[indices_train],\n",
    "    X_user_dense,\n",
    "    X_user_sparse,\n",
    "    X_notif,\n",
    "    batch_size = 2**10\n",
    ")\n",
    "# Validation Generator\n",
    "generator_validation = TrainDataGenerator(\n",
    "    indices_train_user[indices_validation],\n",
    "    indices_train_notif[indices_validation],\n",
    "    targets[indices_validation],\n",
    "    X_user_dense,\n",
    "    X_user_sparse,\n",
    "    X_notif,\n",
    "    batch_size = 2**10\n",
    ")"
   ]
  },
  {
   "cell_type": "markdown",
   "metadata": {},
   "source": [
    "# Model and Training"
   ]
  },
  {
   "cell_type": "code",
   "execution_count": 48,
   "metadata": {
    "collapsed": true
   },
   "outputs": [],
   "source": [
    "from keras.models import Sequential,Model\n",
    "from keras.layers import Dense, Activation, Dropout"
   ]
  },
  {
   "cell_type": "code",
   "execution_count": 50,
   "metadata": {
    "collapsed": false
   },
   "outputs": [],
   "source": [
    "model = Sequential()\n",
    "# first layer\n",
    "model.add(Dense(64,input_dim = n_features))\n",
    "model.add(Activation('relu'))\n",
    "model.add(Dropout(0.5))\n",
    "# second layer\n",
    "model.add(Dense(32))\n",
    "model.add(Activation('relu'))\n",
    "model.add(Dropout(0.5))\n",
    "# the final layer\n",
    "model.add(Dense(1))\n",
    "model.add(Activation('softmax'))"
   ]
  },
  {
   "cell_type": "code",
   "execution_count": null,
   "metadata": {
    "collapsed": true
   },
   "outputs": [],
   "source": [
    "model.compile(loss='binary_crossentropy',\n",
    "              optimizer='rmsprop',\n",
    "              metrics=['accuracy'])"
   ]
  },
  {
   "cell_type": "code",
   "execution_count": null,
   "metadata": {
    "collapsed": true
   },
   "outputs": [],
   "source": []
  },
  {
   "cell_type": "code",
   "execution_count": null,
   "metadata": {
    "collapsed": true
   },
   "outputs": [],
   "source": []
  }
 ],
 "metadata": {
  "kernelspec": {
   "display_name": "Python 3",
   "language": "python",
   "name": "python3"
  },
  "language_info": {
   "codemirror_mode": {
    "name": "ipython",
    "version": 3
   },
   "file_extension": ".py",
   "mimetype": "text/x-python",
   "name": "python",
   "nbconvert_exporter": "python",
   "pygments_lexer": "ipython3",
   "version": "3.6.8"
  }
 },
 "nbformat": 4,
 "nbformat_minor": 2
}
